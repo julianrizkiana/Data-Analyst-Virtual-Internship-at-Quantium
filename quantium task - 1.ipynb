{
 "cells": [
  {
   "cell_type": "code",
   "execution_count": 15,
   "id": "a66922db",
   "metadata": {},
   "outputs": [
    {
     "name": "stdout",
     "output_type": "stream",
     "text": [
      "Requirement already satisfied: missingno in ./opt/anaconda3/lib/python3.9/site-packages (0.5.0)\n",
      "Requirement already satisfied: seaborn in ./opt/anaconda3/lib/python3.9/site-packages (from missingno) (0.11.2)\n",
      "Requirement already satisfied: scipy in ./opt/anaconda3/lib/python3.9/site-packages (from missingno) (1.7.1)\n",
      "Requirement already satisfied: numpy in ./opt/anaconda3/lib/python3.9/site-packages (from missingno) (1.20.3)\n",
      "Requirement already satisfied: matplotlib in ./opt/anaconda3/lib/python3.9/site-packages (from missingno) (3.4.3)\n",
      "Requirement already satisfied: cycler>=0.10 in ./opt/anaconda3/lib/python3.9/site-packages (from matplotlib->missingno) (0.10.0)\n",
      "Requirement already satisfied: pyparsing>=2.2.1 in ./opt/anaconda3/lib/python3.9/site-packages (from matplotlib->missingno) (3.0.4)\n",
      "Requirement already satisfied: python-dateutil>=2.7 in ./opt/anaconda3/lib/python3.9/site-packages (from matplotlib->missingno) (2.8.2)\n",
      "Requirement already satisfied: kiwisolver>=1.0.1 in ./opt/anaconda3/lib/python3.9/site-packages (from matplotlib->missingno) (1.3.1)\n",
      "Requirement already satisfied: pillow>=6.2.0 in ./opt/anaconda3/lib/python3.9/site-packages (from matplotlib->missingno) (8.4.0)\n",
      "Requirement already satisfied: six in ./opt/anaconda3/lib/python3.9/site-packages (from cycler>=0.10->matplotlib->missingno) (1.16.0)\n",
      "Requirement already satisfied: pandas>=0.23 in ./opt/anaconda3/lib/python3.9/site-packages (from seaborn->missingno) (1.3.4)\n",
      "Requirement already satisfied: pytz>=2017.3 in ./opt/anaconda3/lib/python3.9/site-packages (from pandas>=0.23->seaborn->missingno) (2021.3)\n"
     ]
    }
   ],
   "source": [
    "!pip install missingno"
   ]
  },
  {
   "cell_type": "code",
   "execution_count": 5,
   "id": "0a6074cb",
   "metadata": {},
   "outputs": [
    {
     "name": "stderr",
     "output_type": "stream",
     "text": [
      "[nltk_data] Downloading package punkt to /Users/julia/nltk_data...\n",
      "[nltk_data]   Package punkt is already up-to-date!\n"
     ]
    }
   ],
   "source": [
    "#data analysis and wrangling\n",
    "import pandas as pd \n",
    "import numpy as np\n",
    "\n",
    "\n",
    "#visualisation\n",
    "import seaborn as sns\n",
    "import matplotlib.pyplot as plt\n",
    "import missingno\n",
    "\n",
    "#dates\n",
    "import datetime\n",
    "from matplotlib.dates import DateFormatter\n",
    "\n",
    "#text analysis\n",
    "import nltk\n",
    "nltk.download('punkt')\n",
    "from nltk.tokenize import word_tokenize\n",
    "from nltk.probability import FreqDist as fdi\n",
    "import re\n",
    "\n",
    "#statistical analysis\n",
    "from scipy.stats import ttest_ind\n",
    "\n",
    "#warnings\n",
    "import warnings\n",
    "warnings.filterwarnings('ignore')\n",
    "\n"
   ]
  },
  {
   "cell_type": "code",
   "execution_count": 6,
   "id": "a71507b8",
   "metadata": {},
   "outputs": [],
   "source": [
    "cd = pd.read_csv(\"/Users/julia/Desktop/data science/forage/quantium/QVI_purchase_behaviour.csv\")\n",
    "td = pd.read_excel(\"/Users/julia/Desktop/data science/forage/quantium/QVI_transaction_data.xlsx\")"
   ]
  },
  {
   "cell_type": "markdown",
   "id": "b6d83eb8",
   "metadata": {},
   "source": [
    "# Transaction data"
   ]
  },
  {
   "cell_type": "code",
   "execution_count": 7,
   "id": "79f33afb",
   "metadata": {},
   "outputs": [
    {
     "data": {
      "text/html": [
       "<div>\n",
       "<style scoped>\n",
       "    .dataframe tbody tr th:only-of-type {\n",
       "        vertical-align: middle;\n",
       "    }\n",
       "\n",
       "    .dataframe tbody tr th {\n",
       "        vertical-align: top;\n",
       "    }\n",
       "\n",
       "    .dataframe thead th {\n",
       "        text-align: right;\n",
       "    }\n",
       "</style>\n",
       "<table border=\"1\" class=\"dataframe\">\n",
       "  <thead>\n",
       "    <tr style=\"text-align: right;\">\n",
       "      <th></th>\n",
       "      <th>DATE</th>\n",
       "      <th>STORE_NBR</th>\n",
       "      <th>LYLTY_CARD_NBR</th>\n",
       "      <th>TXN_ID</th>\n",
       "      <th>PROD_NBR</th>\n",
       "      <th>PROD_NAME</th>\n",
       "      <th>PROD_QTY</th>\n",
       "      <th>TOT_SALES</th>\n",
       "    </tr>\n",
       "  </thead>\n",
       "  <tbody>\n",
       "    <tr>\n",
       "      <th>0</th>\n",
       "      <td>43390</td>\n",
       "      <td>1</td>\n",
       "      <td>1000</td>\n",
       "      <td>1</td>\n",
       "      <td>5</td>\n",
       "      <td>Natural Chip        Compny SeaSalt175g</td>\n",
       "      <td>2</td>\n",
       "      <td>6.0</td>\n",
       "    </tr>\n",
       "    <tr>\n",
       "      <th>1</th>\n",
       "      <td>43599</td>\n",
       "      <td>1</td>\n",
       "      <td>1307</td>\n",
       "      <td>348</td>\n",
       "      <td>66</td>\n",
       "      <td>CCs Nacho Cheese    175g</td>\n",
       "      <td>3</td>\n",
       "      <td>6.3</td>\n",
       "    </tr>\n",
       "    <tr>\n",
       "      <th>2</th>\n",
       "      <td>43605</td>\n",
       "      <td>1</td>\n",
       "      <td>1343</td>\n",
       "      <td>383</td>\n",
       "      <td>61</td>\n",
       "      <td>Smiths Crinkle Cut  Chips Chicken 170g</td>\n",
       "      <td>2</td>\n",
       "      <td>2.9</td>\n",
       "    </tr>\n",
       "    <tr>\n",
       "      <th>3</th>\n",
       "      <td>43329</td>\n",
       "      <td>2</td>\n",
       "      <td>2373</td>\n",
       "      <td>974</td>\n",
       "      <td>69</td>\n",
       "      <td>Smiths Chip Thinly  S/Cream&amp;Onion 175g</td>\n",
       "      <td>5</td>\n",
       "      <td>15.0</td>\n",
       "    </tr>\n",
       "    <tr>\n",
       "      <th>4</th>\n",
       "      <td>43330</td>\n",
       "      <td>2</td>\n",
       "      <td>2426</td>\n",
       "      <td>1038</td>\n",
       "      <td>108</td>\n",
       "      <td>Kettle Tortilla ChpsHny&amp;Jlpno Chili 150g</td>\n",
       "      <td>3</td>\n",
       "      <td>13.8</td>\n",
       "    </tr>\n",
       "  </tbody>\n",
       "</table>\n",
       "</div>"
      ],
      "text/plain": [
       "    DATE  STORE_NBR  LYLTY_CARD_NBR  TXN_ID  PROD_NBR  \\\n",
       "0  43390          1            1000       1         5   \n",
       "1  43599          1            1307     348        66   \n",
       "2  43605          1            1343     383        61   \n",
       "3  43329          2            2373     974        69   \n",
       "4  43330          2            2426    1038       108   \n",
       "\n",
       "                                  PROD_NAME  PROD_QTY  TOT_SALES  \n",
       "0    Natural Chip        Compny SeaSalt175g         2        6.0  \n",
       "1                  CCs Nacho Cheese    175g         3        6.3  \n",
       "2    Smiths Crinkle Cut  Chips Chicken 170g         2        2.9  \n",
       "3    Smiths Chip Thinly  S/Cream&Onion 175g         5       15.0  \n",
       "4  Kettle Tortilla ChpsHny&Jlpno Chili 150g         3       13.8  "
      ]
     },
     "execution_count": 7,
     "metadata": {},
     "output_type": "execute_result"
    }
   ],
   "source": [
    "td.head()"
   ]
  },
  {
   "cell_type": "code",
   "execution_count": 8,
   "id": "e8983918",
   "metadata": {},
   "outputs": [
    {
     "data": {
      "text/plain": [
       "(264836, 8)"
      ]
     },
     "execution_count": 8,
     "metadata": {},
     "output_type": "execute_result"
    }
   ],
   "source": [
    "td.shape"
   ]
  },
  {
   "cell_type": "code",
   "execution_count": 9,
   "id": "8ff1c8d9",
   "metadata": {},
   "outputs": [
    {
     "data": {
      "text/plain": [
       "263127"
      ]
     },
     "execution_count": 9,
     "metadata": {},
     "output_type": "execute_result"
    }
   ],
   "source": [
    "td['TXN_ID'].nunique()"
   ]
  },
  {
   "cell_type": "code",
   "execution_count": 10,
   "id": "74b8073f",
   "metadata": {},
   "outputs": [
    {
     "data": {
      "text/html": [
       "<div>\n",
       "<style scoped>\n",
       "    .dataframe tbody tr th:only-of-type {\n",
       "        vertical-align: middle;\n",
       "    }\n",
       "\n",
       "    .dataframe tbody tr th {\n",
       "        vertical-align: top;\n",
       "    }\n",
       "\n",
       "    .dataframe thead th {\n",
       "        text-align: right;\n",
       "    }\n",
       "</style>\n",
       "<table border=\"1\" class=\"dataframe\">\n",
       "  <thead>\n",
       "    <tr style=\"text-align: right;\">\n",
       "      <th></th>\n",
       "      <th>DATE</th>\n",
       "      <th>STORE_NBR</th>\n",
       "      <th>LYLTY_CARD_NBR</th>\n",
       "      <th>TXN_ID</th>\n",
       "      <th>PROD_NBR</th>\n",
       "      <th>PROD_NAME</th>\n",
       "      <th>PROD_QTY</th>\n",
       "      <th>TOT_SALES</th>\n",
       "    </tr>\n",
       "  </thead>\n",
       "  <tbody>\n",
       "    <tr>\n",
       "      <th>42</th>\n",
       "      <td>43605</td>\n",
       "      <td>55</td>\n",
       "      <td>55073</td>\n",
       "      <td>48887</td>\n",
       "      <td>113</td>\n",
       "      <td>Twisties Chicken270g</td>\n",
       "      <td>1</td>\n",
       "      <td>4.6</td>\n",
       "    </tr>\n",
       "    <tr>\n",
       "      <th>377</th>\n",
       "      <td>43475</td>\n",
       "      <td>7</td>\n",
       "      <td>7364</td>\n",
       "      <td>7739</td>\n",
       "      <td>20</td>\n",
       "      <td>Doritos Cheese      Supreme 330g</td>\n",
       "      <td>2</td>\n",
       "      <td>11.4</td>\n",
       "    </tr>\n",
       "    <tr>\n",
       "      <th>419</th>\n",
       "      <td>43391</td>\n",
       "      <td>12</td>\n",
       "      <td>12301</td>\n",
       "      <td>10982</td>\n",
       "      <td>93</td>\n",
       "      <td>Doritos Corn Chip Southern Chicken 150g</td>\n",
       "      <td>2</td>\n",
       "      <td>7.8</td>\n",
       "    </tr>\n",
       "    <tr>\n",
       "      <th>476</th>\n",
       "      <td>43351</td>\n",
       "      <td>16</td>\n",
       "      <td>16427</td>\n",
       "      <td>14546</td>\n",
       "      <td>81</td>\n",
       "      <td>Pringles Original   Crisps 134g</td>\n",
       "      <td>1</td>\n",
       "      <td>3.7</td>\n",
       "    </tr>\n",
       "    <tr>\n",
       "      <th>511</th>\n",
       "      <td>43315</td>\n",
       "      <td>19</td>\n",
       "      <td>19272</td>\n",
       "      <td>16683</td>\n",
       "      <td>31</td>\n",
       "      <td>Infzns Crn Crnchers Tangy Gcamole 110g</td>\n",
       "      <td>2</td>\n",
       "      <td>7.6</td>\n",
       "    </tr>\n",
       "  </tbody>\n",
       "</table>\n",
       "</div>"
      ],
      "text/plain": [
       "      DATE  STORE_NBR  LYLTY_CARD_NBR  TXN_ID  PROD_NBR  \\\n",
       "42   43605         55           55073   48887       113   \n",
       "377  43475          7            7364    7739        20   \n",
       "419  43391         12           12301   10982        93   \n",
       "476  43351         16           16427   14546        81   \n",
       "511  43315         19           19272   16683        31   \n",
       "\n",
       "                                   PROD_NAME  PROD_QTY  TOT_SALES  \n",
       "42                      Twisties Chicken270g         1        4.6  \n",
       "377         Doritos Cheese      Supreme 330g         2       11.4  \n",
       "419  Doritos Corn Chip Southern Chicken 150g         2        7.8  \n",
       "476          Pringles Original   Crisps 134g         1        3.7  \n",
       "511   Infzns Crn Crnchers Tangy Gcamole 110g         2        7.6  "
      ]
     },
     "execution_count": 10,
     "metadata": {},
     "output_type": "execute_result"
    }
   ],
   "source": [
    "#TXN_ID is not unique to each row. This is because there can be sales of chips with different brands in a single transaction (it less than transaction data row)\n",
    "#look for duplicated 'TXN_ID' \n",
    "td[td.duplicated(['TXN_ID'])].head()"
   ]
  },
  {
   "cell_type": "code",
   "execution_count": 11,
   "id": "7e6be2a2",
   "metadata": {},
   "outputs": [
    {
     "data": {
      "text/html": [
       "<div>\n",
       "<style scoped>\n",
       "    .dataframe tbody tr th:only-of-type {\n",
       "        vertical-align: middle;\n",
       "    }\n",
       "\n",
       "    .dataframe tbody tr th {\n",
       "        vertical-align: top;\n",
       "    }\n",
       "\n",
       "    .dataframe thead th {\n",
       "        text-align: right;\n",
       "    }\n",
       "</style>\n",
       "<table border=\"1\" class=\"dataframe\">\n",
       "  <thead>\n",
       "    <tr style=\"text-align: right;\">\n",
       "      <th></th>\n",
       "      <th>DATE</th>\n",
       "      <th>STORE_NBR</th>\n",
       "      <th>LYLTY_CARD_NBR</th>\n",
       "      <th>TXN_ID</th>\n",
       "      <th>PROD_NBR</th>\n",
       "      <th>PROD_NAME</th>\n",
       "      <th>PROD_QTY</th>\n",
       "      <th>TOT_SALES</th>\n",
       "    </tr>\n",
       "  </thead>\n",
       "  <tbody>\n",
       "    <tr>\n",
       "      <th>41</th>\n",
       "      <td>43605</td>\n",
       "      <td>55</td>\n",
       "      <td>55073</td>\n",
       "      <td>48887</td>\n",
       "      <td>4</td>\n",
       "      <td>Dorito Corn Chp     Supreme 380g</td>\n",
       "      <td>1</td>\n",
       "      <td>3.25</td>\n",
       "    </tr>\n",
       "    <tr>\n",
       "      <th>42</th>\n",
       "      <td>43605</td>\n",
       "      <td>55</td>\n",
       "      <td>55073</td>\n",
       "      <td>48887</td>\n",
       "      <td>113</td>\n",
       "      <td>Twisties Chicken270g</td>\n",
       "      <td>1</td>\n",
       "      <td>4.60</td>\n",
       "    </tr>\n",
       "  </tbody>\n",
       "</table>\n",
       "</div>"
      ],
      "text/plain": [
       "     DATE  STORE_NBR  LYLTY_CARD_NBR  TXN_ID  PROD_NBR  \\\n",
       "41  43605         55           55073   48887         4   \n",
       "42  43605         55           55073   48887       113   \n",
       "\n",
       "                           PROD_NAME  PROD_QTY  TOT_SALES  \n",
       "41  Dorito Corn Chp     Supreme 380g         1       3.25  \n",
       "42              Twisties Chicken270g         1       4.60  "
      ]
     },
     "execution_count": 11,
     "metadata": {},
     "output_type": "execute_result"
    }
   ],
   "source": [
    "#lets take a look at 'TXN_ID' 48887\n",
    "td.loc[td['TXN_ID'] == 48887, :]"
   ]
  },
  {
   "cell_type": "code",
   "execution_count": 12,
   "id": "d48bc56e",
   "metadata": {},
   "outputs": [
    {
     "name": "stdout",
     "output_type": "stream",
     "text": [
      "<class 'pandas.core.frame.DataFrame'>\n",
      "RangeIndex: 264836 entries, 0 to 264835\n",
      "Data columns (total 8 columns):\n",
      " #   Column          Non-Null Count   Dtype  \n",
      "---  ------          --------------   -----  \n",
      " 0   DATE            264836 non-null  int64  \n",
      " 1   STORE_NBR       264836 non-null  int64  \n",
      " 2   LYLTY_CARD_NBR  264836 non-null  int64  \n",
      " 3   TXN_ID          264836 non-null  int64  \n",
      " 4   PROD_NBR        264836 non-null  int64  \n",
      " 5   PROD_NAME       264836 non-null  object \n",
      " 6   PROD_QTY        264836 non-null  int64  \n",
      " 7   TOT_SALES       264836 non-null  float64\n",
      "dtypes: float64(1), int64(6), object(1)\n",
      "memory usage: 16.2+ MB\n"
     ]
    }
   ],
   "source": [
    "td.info()"
   ]
  },
  {
   "cell_type": "code",
   "execution_count": 13,
   "id": "aa3e7a26",
   "metadata": {},
   "outputs": [
    {
     "data": {
      "text/plain": [
       "<AxesSubplot:>"
      ]
     },
     "execution_count": 13,
     "metadata": {},
     "output_type": "execute_result"
    },
    {
     "data": {
      "image/png": "[encoded data removed]",
      "text/plain": [
       "<Figure size 1800x720 with 2 Axes>"
      ]
     },
     "metadata": {
      "needs_background": "light"
     },
     "output_type": "display_data"
    }
   ],
   "source": [
    "#plot graph of missing values for 'td''\n",
    "missingno.matrix(td)\n",
    "\n",
    "#based on the graph theres no missing numbers in td (no white line)"
   ]
  },
  {
   "cell_type": "code",
   "execution_count": 14,
   "id": "d1b28b80",
   "metadata": {},
   "outputs": [
    {
     "data": {
      "text/plain": [
       "['DATE',\n",
       " 'STORE_NBR',\n",
       " 'LYLTY_CARD_NBR',\n",
       " 'TXN_ID',\n",
       " 'PROD_NBR',\n",
       " 'PROD_NAME',\n",
       " 'PROD_QTY',\n",
       " 'TOT_SALES']"
      ]
     },
     "execution_count": 14,
     "metadata": {},
     "output_type": "execute_result"
    }
   ],
   "source": [
    "list(td.columns)"
   ]
  },
  {
   "cell_type": "code",
   "execution_count": 15,
   "id": "c530c1f9",
   "metadata": {},
   "outputs": [
    {
     "data": {
      "text/plain": [
       "0    43390\n",
       "1    43599\n",
       "2    43605\n",
       "3    43329\n",
       "4    43330\n",
       "Name: DATE, dtype: int64"
      ]
     },
     "execution_count": 15,
     "metadata": {},
     "output_type": "execute_result"
    }
   ],
   "source": [
    "td['DATE'].head()"
   ]
  },
  {
   "cell_type": "code",
   "execution_count": 16,
   "id": "cbaa8eb1",
   "metadata": {},
   "outputs": [],
   "source": [
    "#date not in the right format\n",
    "#convert excel integer into yyyy-mm-dd format\n",
    "def xlseriesdate_to_datetime(xlserialdate):\n",
    "    excel_anchor = datetime.datetime(1900, 1, 1)\n",
    "    if(xlserialdate < 60):\n",
    "        delta_in_days = datetime.timedelta(days = (xlserialdate - 1))\n",
    "    else:\n",
    "        delta_in_days = datetime.timedelta(days = (xlserialdate - 2))\n",
    "    converted_date = excel_anchor + delta_in_days\n",
    "    return converted_date"
   ]
  },
  {
   "cell_type": "code",
   "execution_count": 17,
   "id": "5839003a",
   "metadata": {},
   "outputs": [],
   "source": [
    "#apply function to 'DATE'feature in 'td' dataset\n",
    "td['DATE'] = td['DATE'].apply(xlseriesdate_to_datetime)"
   ]
  },
  {
   "cell_type": "code",
   "execution_count": 18,
   "id": "025f15a0",
   "metadata": {},
   "outputs": [
    {
     "data": {
      "text/plain": [
       "0   2018-10-17\n",
       "1   2019-05-14\n",
       "2   2019-05-20\n",
       "3   2018-08-17\n",
       "4   2018-08-18\n",
       "Name: DATE, dtype: datetime64[ns]"
      ]
     },
     "execution_count": 18,
     "metadata": {},
     "output_type": "execute_result"
    }
   ],
   "source": [
    "#check new data format\n",
    "td['DATE'].head()"
   ]
  },
  {
   "cell_type": "code",
   "execution_count": 19,
   "id": "e97f4ec4",
   "metadata": {},
   "outputs": [
    {
     "data": {
      "text/plain": [
       "0      Natural Chip        Compny SeaSalt175g\n",
       "1                    CCs Nacho Cheese    175g\n",
       "2      Smiths Crinkle Cut  Chips Chicken 170g\n",
       "3      Smiths Chip Thinly  S/Cream&Onion 175g\n",
       "4    Kettle Tortilla ChpsHny&Jlpno Chili 150g\n",
       "Name: PROD_NAME, dtype: object"
      ]
     },
     "execution_count": 19,
     "metadata": {},
     "output_type": "execute_result"
    }
   ],
   "source": [
    "td['PROD_NAME'].head()"
   ]
  },
  {
   "cell_type": "code",
   "execution_count": 20,
   "id": "b5676909",
   "metadata": {},
   "outputs": [
    {
     "data": {
      "text/html": [
       "<div>\n",
       "<style scoped>\n",
       "    .dataframe tbody tr th:only-of-type {\n",
       "        vertical-align: middle;\n",
       "    }\n",
       "\n",
       "    .dataframe tbody tr th {\n",
       "        vertical-align: top;\n",
       "    }\n",
       "\n",
       "    .dataframe thead th {\n",
       "        text-align: right;\n",
       "    }\n",
       "</style>\n",
       "<table border=\"1\" class=\"dataframe\">\n",
       "  <thead>\n",
       "    <tr style=\"text-align: right;\">\n",
       "      <th></th>\n",
       "      <th>DATE</th>\n",
       "      <th>STORE_NBR</th>\n",
       "      <th>LYLTY_CARD_NBR</th>\n",
       "      <th>TXN_ID</th>\n",
       "      <th>PROD_NBR</th>\n",
       "      <th>PROD_NAME</th>\n",
       "      <th>PROD_QTY</th>\n",
       "      <th>TOT_SALES</th>\n",
       "      <th>PACK_SIZE</th>\n",
       "    </tr>\n",
       "  </thead>\n",
       "  <tbody>\n",
       "    <tr>\n",
       "      <th>0</th>\n",
       "      <td>2018-10-17</td>\n",
       "      <td>1</td>\n",
       "      <td>1000</td>\n",
       "      <td>1</td>\n",
       "      <td>5</td>\n",
       "      <td>Natural Chip        Compny SeaSalt175g</td>\n",
       "      <td>2</td>\n",
       "      <td>6.0</td>\n",
       "      <td>175</td>\n",
       "    </tr>\n",
       "    <tr>\n",
       "      <th>1</th>\n",
       "      <td>2019-05-14</td>\n",
       "      <td>1</td>\n",
       "      <td>1307</td>\n",
       "      <td>348</td>\n",
       "      <td>66</td>\n",
       "      <td>CCs Nacho Cheese    175g</td>\n",
       "      <td>3</td>\n",
       "      <td>6.3</td>\n",
       "      <td>175</td>\n",
       "    </tr>\n",
       "    <tr>\n",
       "      <th>2</th>\n",
       "      <td>2019-05-20</td>\n",
       "      <td>1</td>\n",
       "      <td>1343</td>\n",
       "      <td>383</td>\n",
       "      <td>61</td>\n",
       "      <td>Smiths Crinkle Cut  Chips Chicken 170g</td>\n",
       "      <td>2</td>\n",
       "      <td>2.9</td>\n",
       "      <td>170</td>\n",
       "    </tr>\n",
       "    <tr>\n",
       "      <th>3</th>\n",
       "      <td>2018-08-17</td>\n",
       "      <td>2</td>\n",
       "      <td>2373</td>\n",
       "      <td>974</td>\n",
       "      <td>69</td>\n",
       "      <td>Smiths Chip Thinly  S/Cream&amp;Onion 175g</td>\n",
       "      <td>5</td>\n",
       "      <td>15.0</td>\n",
       "      <td>175</td>\n",
       "    </tr>\n",
       "    <tr>\n",
       "      <th>4</th>\n",
       "      <td>2018-08-18</td>\n",
       "      <td>2</td>\n",
       "      <td>2426</td>\n",
       "      <td>1038</td>\n",
       "      <td>108</td>\n",
       "      <td>Kettle Tortilla ChpsHny&amp;Jlpno Chili 150g</td>\n",
       "      <td>3</td>\n",
       "      <td>13.8</td>\n",
       "      <td>150</td>\n",
       "    </tr>\n",
       "  </tbody>\n",
       "</table>\n",
       "</div>"
      ],
      "text/plain": [
       "        DATE  STORE_NBR  LYLTY_CARD_NBR  TXN_ID  PROD_NBR  \\\n",
       "0 2018-10-17          1            1000       1         5   \n",
       "1 2019-05-14          1            1307     348        66   \n",
       "2 2019-05-20          1            1343     383        61   \n",
       "3 2018-08-17          2            2373     974        69   \n",
       "4 2018-08-18          2            2426    1038       108   \n",
       "\n",
       "                                  PROD_NAME  PROD_QTY  TOT_SALES  PACK_SIZE  \n",
       "0    Natural Chip        Compny SeaSalt175g         2        6.0        175  \n",
       "1                  CCs Nacho Cheese    175g         3        6.3        175  \n",
       "2    Smiths Crinkle Cut  Chips Chicken 170g         2        2.9        170  \n",
       "3    Smiths Chip Thinly  S/Cream&Onion 175g         5       15.0        175  \n",
       "4  Kettle Tortilla ChpsHny&Jlpno Chili 150g         3       13.8        150  "
      ]
     },
     "execution_count": 20,
     "metadata": {},
     "output_type": "execute_result"
    }
   ],
   "source": [
    "#Extract weight out of \"PROD_Name\" and make Extract weight as a new column\n",
    "td['PACK_SIZE'] = td['PROD_NAME'].str.extract(\"(\\d+)\")\n",
    "td['PACK_SIZE'] = pd.to_numeric(td['PACK_SIZE'])\n",
    "td.head()"
   ]
  },
  {
   "cell_type": "code",
   "execution_count": 21,
   "id": "9f73a6dd",
   "metadata": {},
   "outputs": [],
   "source": [
    "#'PROD_NAME' text cleaning\n",
    "def clean_text(text):\n",
    "    text = re.sub('[&/]', ' ', text) # remove special characters '&' and '/'\n",
    "    text = re.sub('\\d\\w*', ' ', text) # remove product weights\n",
    "    return text\n",
    "\n",
    "# Apply text cleaning function to PROD_NAME column\n",
    "td['PROD_NAME'] = td['PROD_NAME'].apply(clean_text)"
   ]
  },
  {
   "cell_type": "code",
   "execution_count": 22,
   "id": "23bdea4a",
   "metadata": {},
   "outputs": [
    {
     "data": {
      "text/plain": [
       "0      Natural Chip        Compny SeaSalt \n",
       "1                    CCs Nacho Cheese     \n",
       "2      Smiths Crinkle Cut  Chips Chicken  \n",
       "3      Smiths Chip Thinly  S Cream Onion  \n",
       "4    Kettle Tortilla ChpsHny Jlpno Chili  \n",
       "Name: PROD_NAME, dtype: object"
      ]
     },
     "execution_count": 22,
     "metadata": {},
     "output_type": "execute_result"
    }
   ],
   "source": [
    "td['PROD_NAME'].head()"
   ]
  },
  {
   "cell_type": "code",
   "execution_count": 23,
   "id": "101c7deb",
   "metadata": {
    "scrolled": true
   },
   "outputs": [
    {
     "data": {
      "text/html": [
       "<div>\n",
       "<style scoped>\n",
       "    .dataframe tbody tr th:only-of-type {\n",
       "        vertical-align: middle;\n",
       "    }\n",
       "\n",
       "    .dataframe tbody tr th {\n",
       "        vertical-align: top;\n",
       "    }\n",
       "\n",
       "    .dataframe thead th {\n",
       "        text-align: right;\n",
       "    }\n",
       "</style>\n",
       "<table border=\"1\" class=\"dataframe\">\n",
       "  <thead>\n",
       "    <tr style=\"text-align: right;\">\n",
       "      <th></th>\n",
       "      <th>DATE</th>\n",
       "      <th>STORE_NBR</th>\n",
       "      <th>LYLTY_CARD_NBR</th>\n",
       "      <th>TXN_ID</th>\n",
       "      <th>PROD_NBR</th>\n",
       "      <th>PROD_NAME</th>\n",
       "      <th>PROD_QTY</th>\n",
       "      <th>TOT_SALES</th>\n",
       "      <th>PACK_SIZE</th>\n",
       "    </tr>\n",
       "  </thead>\n",
       "  <tbody>\n",
       "    <tr>\n",
       "      <th>0</th>\n",
       "      <td>2018-10-17</td>\n",
       "      <td>1</td>\n",
       "      <td>1000</td>\n",
       "      <td>1</td>\n",
       "      <td>5</td>\n",
       "      <td>Natural Chip        Compny SeaSalt</td>\n",
       "      <td>2</td>\n",
       "      <td>6.0</td>\n",
       "      <td>175</td>\n",
       "    </tr>\n",
       "    <tr>\n",
       "      <th>1</th>\n",
       "      <td>2019-05-14</td>\n",
       "      <td>1</td>\n",
       "      <td>1307</td>\n",
       "      <td>348</td>\n",
       "      <td>66</td>\n",
       "      <td>CCs Nacho Cheese</td>\n",
       "      <td>3</td>\n",
       "      <td>6.3</td>\n",
       "      <td>175</td>\n",
       "    </tr>\n",
       "    <tr>\n",
       "      <th>2</th>\n",
       "      <td>2019-05-20</td>\n",
       "      <td>1</td>\n",
       "      <td>1343</td>\n",
       "      <td>383</td>\n",
       "      <td>61</td>\n",
       "      <td>Smiths Crinkle Cut  Chips Chicken</td>\n",
       "      <td>2</td>\n",
       "      <td>2.9</td>\n",
       "      <td>170</td>\n",
       "    </tr>\n",
       "    <tr>\n",
       "      <th>3</th>\n",
       "      <td>2018-08-17</td>\n",
       "      <td>2</td>\n",
       "      <td>2373</td>\n",
       "      <td>974</td>\n",
       "      <td>69</td>\n",
       "      <td>Smiths Chip Thinly  S Cream Onion</td>\n",
       "      <td>5</td>\n",
       "      <td>15.0</td>\n",
       "      <td>175</td>\n",
       "    </tr>\n",
       "    <tr>\n",
       "      <th>4</th>\n",
       "      <td>2018-08-18</td>\n",
       "      <td>2</td>\n",
       "      <td>2426</td>\n",
       "      <td>1038</td>\n",
       "      <td>108</td>\n",
       "      <td>Kettle Tortilla ChpsHny Jlpno Chili</td>\n",
       "      <td>3</td>\n",
       "      <td>13.8</td>\n",
       "      <td>150</td>\n",
       "    </tr>\n",
       "    <tr>\n",
       "      <th>...</th>\n",
       "      <td>...</td>\n",
       "      <td>...</td>\n",
       "      <td>...</td>\n",
       "      <td>...</td>\n",
       "      <td>...</td>\n",
       "      <td>...</td>\n",
       "      <td>...</td>\n",
       "      <td>...</td>\n",
       "      <td>...</td>\n",
       "    </tr>\n",
       "    <tr>\n",
       "      <th>264831</th>\n",
       "      <td>2019-03-09</td>\n",
       "      <td>272</td>\n",
       "      <td>272319</td>\n",
       "      <td>270088</td>\n",
       "      <td>89</td>\n",
       "      <td>Kettle Sweet Chilli And Sour Cream</td>\n",
       "      <td>2</td>\n",
       "      <td>10.8</td>\n",
       "      <td>175</td>\n",
       "    </tr>\n",
       "    <tr>\n",
       "      <th>264832</th>\n",
       "      <td>2018-08-13</td>\n",
       "      <td>272</td>\n",
       "      <td>272358</td>\n",
       "      <td>270154</td>\n",
       "      <td>74</td>\n",
       "      <td>Tostitos Splash Of  Lime</td>\n",
       "      <td>1</td>\n",
       "      <td>4.4</td>\n",
       "      <td>175</td>\n",
       "    </tr>\n",
       "    <tr>\n",
       "      <th>264833</th>\n",
       "      <td>2018-11-06</td>\n",
       "      <td>272</td>\n",
       "      <td>272379</td>\n",
       "      <td>270187</td>\n",
       "      <td>51</td>\n",
       "      <td>Doritos Mexicana</td>\n",
       "      <td>2</td>\n",
       "      <td>8.8</td>\n",
       "      <td>170</td>\n",
       "    </tr>\n",
       "    <tr>\n",
       "      <th>264834</th>\n",
       "      <td>2018-12-27</td>\n",
       "      <td>272</td>\n",
       "      <td>272379</td>\n",
       "      <td>270188</td>\n",
       "      <td>42</td>\n",
       "      <td>Doritos Corn Chip Mexican Jalapeno</td>\n",
       "      <td>2</td>\n",
       "      <td>7.8</td>\n",
       "      <td>150</td>\n",
       "    </tr>\n",
       "    <tr>\n",
       "      <th>264835</th>\n",
       "      <td>2018-09-22</td>\n",
       "      <td>272</td>\n",
       "      <td>272380</td>\n",
       "      <td>270189</td>\n",
       "      <td>74</td>\n",
       "      <td>Tostitos Splash Of  Lime</td>\n",
       "      <td>2</td>\n",
       "      <td>8.8</td>\n",
       "      <td>175</td>\n",
       "    </tr>\n",
       "  </tbody>\n",
       "</table>\n",
       "<p>264836 rows × 9 columns</p>\n",
       "</div>"
      ],
      "text/plain": [
       "             DATE  STORE_NBR  LYLTY_CARD_NBR  TXN_ID  PROD_NBR  \\\n",
       "0      2018-10-17          1            1000       1         5   \n",
       "1      2019-05-14          1            1307     348        66   \n",
       "2      2019-05-20          1            1343     383        61   \n",
       "3      2018-08-17          2            2373     974        69   \n",
       "4      2018-08-18          2            2426    1038       108   \n",
       "...           ...        ...             ...     ...       ...   \n",
       "264831 2019-03-09        272          272319  270088        89   \n",
       "264832 2018-08-13        272          272358  270154        74   \n",
       "264833 2018-11-06        272          272379  270187        51   \n",
       "264834 2018-12-27        272          272379  270188        42   \n",
       "264835 2018-09-22        272          272380  270189        74   \n",
       "\n",
       "                                    PROD_NAME  PROD_QTY  TOT_SALES  PACK_SIZE  \n",
       "0         Natural Chip        Compny SeaSalt          2        6.0        175  \n",
       "1                       CCs Nacho Cheese              3        6.3        175  \n",
       "2         Smiths Crinkle Cut  Chips Chicken           2        2.9        170  \n",
       "3         Smiths Chip Thinly  S Cream Onion           5       15.0        175  \n",
       "4       Kettle Tortilla ChpsHny Jlpno Chili           3       13.8        150  \n",
       "...                                       ...       ...        ...        ...  \n",
       "264831   Kettle Sweet Chilli And Sour Cream           2       10.8        175  \n",
       "264832             Tostitos Splash Of  Lime           1        4.4        175  \n",
       "264833                  Doritos Mexicana              2        8.8        170  \n",
       "264834   Doritos Corn Chip Mexican Jalapeno           2        7.8        150  \n",
       "264835             Tostitos Splash Of  Lime           2        8.8        175  \n",
       "\n",
       "[264836 rows x 9 columns]"
      ]
     },
     "execution_count": 23,
     "metadata": {},
     "output_type": "execute_result"
    }
   ],
   "source": [
    "# Drop rows with salsa word in PROD_NAME (solution draft said the data has salsa word in it)\n",
    "\n",
    "\n",
    "td[td[\"PROD_NAME\"].str.contains(\"salsa\")==False] \n"
   ]
  },
  {
   "cell_type": "code",
   "execution_count": 24,
   "id": "c1ab4138",
   "metadata": {},
   "outputs": [
    {
     "data": {
      "text/plain": [
       "2      236039\n",
       "1       27518\n",
       "5         450\n",
       "3         430\n",
       "4         397\n",
       "200         2\n",
       "Name: PROD_QTY, dtype: int64"
      ]
     },
     "execution_count": 24,
     "metadata": {},
     "output_type": "execute_result"
    }
   ],
   "source": [
    "# check for possible outliers\n",
    "td[\"PROD_QTY\"].value_counts()"
   ]
  },
  {
   "cell_type": "code",
   "execution_count": 25,
   "id": "ca563b98",
   "metadata": {},
   "outputs": [
    {
     "data": {
      "text/html": [
       "<div>\n",
       "<style scoped>\n",
       "    .dataframe tbody tr th:only-of-type {\n",
       "        vertical-align: middle;\n",
       "    }\n",
       "\n",
       "    .dataframe tbody tr th {\n",
       "        vertical-align: top;\n",
       "    }\n",
       "\n",
       "    .dataframe thead th {\n",
       "        text-align: right;\n",
       "    }\n",
       "</style>\n",
       "<table border=\"1\" class=\"dataframe\">\n",
       "  <thead>\n",
       "    <tr style=\"text-align: right;\">\n",
       "      <th></th>\n",
       "      <th>DATE</th>\n",
       "      <th>STORE_NBR</th>\n",
       "      <th>LYLTY_CARD_NBR</th>\n",
       "      <th>TXN_ID</th>\n",
       "      <th>PROD_NBR</th>\n",
       "      <th>PROD_NAME</th>\n",
       "      <th>PROD_QTY</th>\n",
       "      <th>TOT_SALES</th>\n",
       "      <th>PACK_SIZE</th>\n",
       "    </tr>\n",
       "  </thead>\n",
       "  <tbody>\n",
       "    <tr>\n",
       "      <th>69762</th>\n",
       "      <td>2018-08-19</td>\n",
       "      <td>226</td>\n",
       "      <td>226000</td>\n",
       "      <td>226201</td>\n",
       "      <td>4</td>\n",
       "      <td>Dorito Corn Chp     Supreme</td>\n",
       "      <td>200</td>\n",
       "      <td>650.0</td>\n",
       "      <td>380</td>\n",
       "    </tr>\n",
       "    <tr>\n",
       "      <th>69763</th>\n",
       "      <td>2019-05-20</td>\n",
       "      <td>226</td>\n",
       "      <td>226000</td>\n",
       "      <td>226210</td>\n",
       "      <td>4</td>\n",
       "      <td>Dorito Corn Chp     Supreme</td>\n",
       "      <td>200</td>\n",
       "      <td>650.0</td>\n",
       "      <td>380</td>\n",
       "    </tr>\n",
       "  </tbody>\n",
       "</table>\n",
       "</div>"
      ],
      "text/plain": [
       "            DATE  STORE_NBR  LYLTY_CARD_NBR  TXN_ID  PROD_NBR  \\\n",
       "69762 2018-08-19        226          226000  226201         4   \n",
       "69763 2019-05-20        226          226000  226210         4   \n",
       "\n",
       "                           PROD_NAME  PROD_QTY  TOT_SALES  PACK_SIZE  \n",
       "69762  Dorito Corn Chp     Supreme         200      650.0        380  \n",
       "69763  Dorito Corn Chp     Supreme         200      650.0        380  "
      ]
     },
     "execution_count": 25,
     "metadata": {},
     "output_type": "execute_result"
    }
   ],
   "source": [
    "#2 total sales with 200 chips products quantity looks odd\n",
    "#explore further \n",
    "td.loc[td['PROD_QTY'] == 200, :] "
   ]
  },
  {
   "cell_type": "code",
   "execution_count": 26,
   "id": "5f51433b",
   "metadata": {},
   "outputs": [
    {
     "data": {
      "text/html": [
       "<div>\n",
       "<style scoped>\n",
       "    .dataframe tbody tr th:only-of-type {\n",
       "        vertical-align: middle;\n",
       "    }\n",
       "\n",
       "    .dataframe tbody tr th {\n",
       "        vertical-align: top;\n",
       "    }\n",
       "\n",
       "    .dataframe thead th {\n",
       "        text-align: right;\n",
       "    }\n",
       "</style>\n",
       "<table border=\"1\" class=\"dataframe\">\n",
       "  <thead>\n",
       "    <tr style=\"text-align: right;\">\n",
       "      <th></th>\n",
       "      <th>DATE</th>\n",
       "      <th>STORE_NBR</th>\n",
       "      <th>LYLTY_CARD_NBR</th>\n",
       "      <th>TXN_ID</th>\n",
       "      <th>PROD_NBR</th>\n",
       "      <th>PROD_NAME</th>\n",
       "      <th>PROD_QTY</th>\n",
       "      <th>TOT_SALES</th>\n",
       "      <th>PACK_SIZE</th>\n",
       "    </tr>\n",
       "  </thead>\n",
       "  <tbody>\n",
       "    <tr>\n",
       "      <th>69762</th>\n",
       "      <td>2018-08-19</td>\n",
       "      <td>226</td>\n",
       "      <td>226000</td>\n",
       "      <td>226201</td>\n",
       "      <td>4</td>\n",
       "      <td>Dorito Corn Chp     Supreme</td>\n",
       "      <td>200</td>\n",
       "      <td>650.0</td>\n",
       "      <td>380</td>\n",
       "    </tr>\n",
       "    <tr>\n",
       "      <th>69763</th>\n",
       "      <td>2019-05-20</td>\n",
       "      <td>226</td>\n",
       "      <td>226000</td>\n",
       "      <td>226210</td>\n",
       "      <td>4</td>\n",
       "      <td>Dorito Corn Chp     Supreme</td>\n",
       "      <td>200</td>\n",
       "      <td>650.0</td>\n",
       "      <td>380</td>\n",
       "    </tr>\n",
       "  </tbody>\n",
       "</table>\n",
       "</div>"
      ],
      "text/plain": [
       "            DATE  STORE_NBR  LYLTY_CARD_NBR  TXN_ID  PROD_NBR  \\\n",
       "69762 2018-08-19        226          226000  226201         4   \n",
       "69763 2019-05-20        226          226000  226210         4   \n",
       "\n",
       "                           PROD_NAME  PROD_QTY  TOT_SALES  PACK_SIZE  \n",
       "69762  Dorito Corn Chp     Supreme         200      650.0        380  \n",
       "69763  Dorito Corn Chp     Supreme         200      650.0        380  "
      ]
     },
     "execution_count": 26,
     "metadata": {},
     "output_type": "execute_result"
    }
   ],
   "source": [
    "#both the transaction with 200 chips products quantity have been made by the same person at the same store!\n",
    "#Let's see all the transactions this person has made by tracking his loyalty card number\n",
    "\n",
    "td.loc[td['LYLTY_CARD_NBR'] == 226000, :]"
   ]
  },
  {
   "cell_type": "code",
   "execution_count": 27,
   "id": "04d1073e",
   "metadata": {},
   "outputs": [],
   "source": [
    "#It looks like this customer has only had the two transactions over the year and is not an ordinary retail customer. \n",
    "#The customer might be buying chips for commercial purposes instead. We will remove this loyalty card number from further analysis.\n",
    "# Filter out the customer based on the loyalty card number\n",
    "\n",
    "td.drop(td.index[td['LYLTY_CARD_NBR'] == 226000], inplace = True)\n"
   ]
  },
  {
   "cell_type": "code",
   "execution_count": 28,
   "id": "40d2fbb0",
   "metadata": {},
   "outputs": [
    {
     "data": {
      "text/html": [
       "<div>\n",
       "<style scoped>\n",
       "    .dataframe tbody tr th:only-of-type {\n",
       "        vertical-align: middle;\n",
       "    }\n",
       "\n",
       "    .dataframe tbody tr th {\n",
       "        vertical-align: top;\n",
       "    }\n",
       "\n",
       "    .dataframe thead th {\n",
       "        text-align: right;\n",
       "    }\n",
       "</style>\n",
       "<table border=\"1\" class=\"dataframe\">\n",
       "  <thead>\n",
       "    <tr style=\"text-align: right;\">\n",
       "      <th></th>\n",
       "      <th>DATE</th>\n",
       "      <th>STORE_NBR</th>\n",
       "      <th>LYLTY_CARD_NBR</th>\n",
       "      <th>TXN_ID</th>\n",
       "      <th>PROD_NBR</th>\n",
       "      <th>PROD_NAME</th>\n",
       "      <th>PROD_QTY</th>\n",
       "      <th>TOT_SALES</th>\n",
       "      <th>PACK_SIZE</th>\n",
       "    </tr>\n",
       "  </thead>\n",
       "  <tbody>\n",
       "  </tbody>\n",
       "</table>\n",
       "</div>"
      ],
      "text/plain": [
       "Empty DataFrame\n",
       "Columns: [DATE, STORE_NBR, LYLTY_CARD_NBR, TXN_ID, PROD_NBR, PROD_NAME, PROD_QTY, TOT_SALES, PACK_SIZE]\n",
       "Index: []"
      ]
     },
     "execution_count": 28,
     "metadata": {},
     "output_type": "execute_result"
    }
   ],
   "source": [
    "# Re-examine transaction data to make sure it has been dropped \n",
    "\n",
    "td.loc[td['LYLTY_CARD_NBR'] == 226000]"
   ]
  },
  {
   "cell_type": "code",
   "execution_count": 29,
   "id": "06590d00",
   "metadata": {},
   "outputs": [
    {
     "data": {
      "text/plain": [
       "DATE                 364\n",
       "STORE_NBR            272\n",
       "LYLTY_CARD_NBR     72636\n",
       "TXN_ID            263125\n",
       "PROD_NBR             114\n",
       "PROD_NAME            114\n",
       "PROD_QTY               5\n",
       "TOT_SALES            111\n",
       "PACK_SIZE             21\n",
       "dtype: int64"
      ]
     },
     "execution_count": 29,
     "metadata": {},
     "output_type": "execute_result"
    }
   ],
   "source": [
    "# let's look if there are any obvious data issues such as missing data\n",
    "td.nunique()"
   ]
  },
  {
   "cell_type": "code",
   "execution_count": 30,
   "id": "e4387eb5",
   "metadata": {},
   "outputs": [
    {
     "data": {
      "text/plain": [
       "DATE                 364\n",
       "STORE_NBR            272\n",
       "LYLTY_CARD_NBR     72636\n",
       "TXN_ID            263125\n",
       "PROD_NBR             114\n",
       "PROD_NAME            114\n",
       "PROD_QTY               5\n",
       "TOT_SALES            111\n",
       "PACK_SIZE             21\n",
       "dtype: int64"
      ]
     },
     "execution_count": 30,
     "metadata": {},
     "output_type": "execute_result"
    }
   ],
   "source": [
    "# Now let's examine the number of transactions over time to see if there are any obvious data issues e.g. missing data\n",
    "\n",
    "td.nunique()"
   ]
  },
  {
   "cell_type": "code",
   "execution_count": 31,
   "id": "755ded1d",
   "metadata": {},
   "outputs": [],
   "source": [
    "td = td.sort_values(by=['DATE'], inplace=False, ascending=False)\n"
   ]
  },
  {
   "cell_type": "code",
   "execution_count": 32,
   "id": "1e2bba25",
   "metadata": {},
   "outputs": [
    {
     "data": {
      "text/html": [
       "<div>\n",
       "<style scoped>\n",
       "    .dataframe tbody tr th:only-of-type {\n",
       "        vertical-align: middle;\n",
       "    }\n",
       "\n",
       "    .dataframe tbody tr th {\n",
       "        vertical-align: top;\n",
       "    }\n",
       "\n",
       "    .dataframe thead th {\n",
       "        text-align: right;\n",
       "    }\n",
       "</style>\n",
       "<table border=\"1\" class=\"dataframe\">\n",
       "  <thead>\n",
       "    <tr style=\"text-align: right;\">\n",
       "      <th></th>\n",
       "      <th>DATE</th>\n",
       "      <th>STORE_NBR</th>\n",
       "      <th>LYLTY_CARD_NBR</th>\n",
       "      <th>TXN_ID</th>\n",
       "      <th>PROD_NBR</th>\n",
       "      <th>PROD_NAME</th>\n",
       "      <th>PROD_QTY</th>\n",
       "      <th>TOT_SALES</th>\n",
       "      <th>PACK_SIZE</th>\n",
       "    </tr>\n",
       "  </thead>\n",
       "  <tbody>\n",
       "    <tr>\n",
       "      <th>177004</th>\n",
       "      <td>2019-06-30</td>\n",
       "      <td>100</td>\n",
       "      <td>100099</td>\n",
       "      <td>98981</td>\n",
       "      <td>90</td>\n",
       "      <td>Tostitos Smoked     Chipotle</td>\n",
       "      <td>2</td>\n",
       "      <td>8.8</td>\n",
       "      <td>175</td>\n",
       "    </tr>\n",
       "    <tr>\n",
       "      <th>40823</th>\n",
       "      <td>2019-06-30</td>\n",
       "      <td>97</td>\n",
       "      <td>97085</td>\n",
       "      <td>96824</td>\n",
       "      <td>33</td>\n",
       "      <td>Cobs Popd Swt Chlli  Sr Cream Chips</td>\n",
       "      <td>2</td>\n",
       "      <td>7.6</td>\n",
       "      <td>110</td>\n",
       "    </tr>\n",
       "    <tr>\n",
       "      <th>264144</th>\n",
       "      <td>2019-06-30</td>\n",
       "      <td>242</td>\n",
       "      <td>242159</td>\n",
       "      <td>246222</td>\n",
       "      <td>36</td>\n",
       "      <td>Kettle Chilli</td>\n",
       "      <td>2</td>\n",
       "      <td>10.8</td>\n",
       "      <td>175</td>\n",
       "    </tr>\n",
       "    <tr>\n",
       "      <th>183724</th>\n",
       "      <td>2019-06-30</td>\n",
       "      <td>241</td>\n",
       "      <td>241082</td>\n",
       "      <td>245022</td>\n",
       "      <td>26</td>\n",
       "      <td>Pringles Sweet Spcy BBQ</td>\n",
       "      <td>2</td>\n",
       "      <td>7.4</td>\n",
       "      <td>134</td>\n",
       "    </tr>\n",
       "    <tr>\n",
       "      <th>261276</th>\n",
       "      <td>2019-06-30</td>\n",
       "      <td>113</td>\n",
       "      <td>113051</td>\n",
       "      <td>115705</td>\n",
       "      <td>49</td>\n",
       "      <td>Infuzions SourCream Herbs Veg Strws</td>\n",
       "      <td>2</td>\n",
       "      <td>7.6</td>\n",
       "      <td>110</td>\n",
       "    </tr>\n",
       "    <tr>\n",
       "      <th>...</th>\n",
       "      <td>...</td>\n",
       "      <td>...</td>\n",
       "      <td>...</td>\n",
       "      <td>...</td>\n",
       "      <td>...</td>\n",
       "      <td>...</td>\n",
       "      <td>...</td>\n",
       "      <td>...</td>\n",
       "      <td>...</td>\n",
       "    </tr>\n",
       "    <tr>\n",
       "      <th>203759</th>\n",
       "      <td>2018-07-01</td>\n",
       "      <td>269</td>\n",
       "      <td>269247</td>\n",
       "      <td>266543</td>\n",
       "      <td>98</td>\n",
       "      <td>NCC Sour Cream      Garden Chives</td>\n",
       "      <td>2</td>\n",
       "      <td>6.0</td>\n",
       "      <td>175</td>\n",
       "    </tr>\n",
       "    <tr>\n",
       "      <th>230717</th>\n",
       "      <td>2018-07-01</td>\n",
       "      <td>57</td>\n",
       "      <td>57147</td>\n",
       "      <td>52098</td>\n",
       "      <td>81</td>\n",
       "      <td>Pringles Original   Crisps</td>\n",
       "      <td>2</td>\n",
       "      <td>7.4</td>\n",
       "      <td>134</td>\n",
       "    </tr>\n",
       "    <tr>\n",
       "      <th>158471</th>\n",
       "      <td>2018-07-01</td>\n",
       "      <td>97</td>\n",
       "      <td>97014</td>\n",
       "      <td>96348</td>\n",
       "      <td>92</td>\n",
       "      <td>WW Crinkle Cut      Chicken</td>\n",
       "      <td>2</td>\n",
       "      <td>3.4</td>\n",
       "      <td>175</td>\n",
       "    </tr>\n",
       "    <tr>\n",
       "      <th>103275</th>\n",
       "      <td>2018-07-01</td>\n",
       "      <td>56</td>\n",
       "      <td>56168</td>\n",
       "      <td>50909</td>\n",
       "      <td>7</td>\n",
       "      <td>Smiths Crinkle      Original</td>\n",
       "      <td>2</td>\n",
       "      <td>11.4</td>\n",
       "      <td>330</td>\n",
       "    </tr>\n",
       "    <tr>\n",
       "      <th>72230</th>\n",
       "      <td>2018-07-01</td>\n",
       "      <td>63</td>\n",
       "      <td>63080</td>\n",
       "      <td>59870</td>\n",
       "      <td>73</td>\n",
       "      <td>Smiths Crinkle Cut  Salt   Vinegar</td>\n",
       "      <td>2</td>\n",
       "      <td>5.8</td>\n",
       "      <td>170</td>\n",
       "    </tr>\n",
       "  </tbody>\n",
       "</table>\n",
       "<p>264834 rows × 9 columns</p>\n",
       "</div>"
      ],
      "text/plain": [
       "             DATE  STORE_NBR  LYLTY_CARD_NBR  TXN_ID  PROD_NBR  \\\n",
       "177004 2019-06-30        100          100099   98981        90   \n",
       "40823  2019-06-30         97           97085   96824        33   \n",
       "264144 2019-06-30        242          242159  246222        36   \n",
       "183724 2019-06-30        241          241082  245022        26   \n",
       "261276 2019-06-30        113          113051  115705        49   \n",
       "...           ...        ...             ...     ...       ...   \n",
       "203759 2018-07-01        269          269247  266543        98   \n",
       "230717 2018-07-01         57           57147   52098        81   \n",
       "158471 2018-07-01         97           97014   96348        92   \n",
       "103275 2018-07-01         56           56168   50909         7   \n",
       "72230  2018-07-01         63           63080   59870        73   \n",
       "\n",
       "                                    PROD_NAME  PROD_QTY  TOT_SALES  PACK_SIZE  \n",
       "177004         Tostitos Smoked     Chipotle           2        8.8        175  \n",
       "40823   Cobs Popd Swt Chlli  Sr Cream Chips           2        7.6        110  \n",
       "264144                        Kettle Chilli           2       10.8        175  \n",
       "183724              Pringles Sweet Spcy BBQ           2        7.4        134  \n",
       "261276  Infuzions SourCream Herbs Veg Strws           2        7.6        110  \n",
       "...                                       ...       ...        ...        ...  \n",
       "203759    NCC Sour Cream      Garden Chives           2        6.0        175  \n",
       "230717           Pringles Original   Crisps           2        7.4        134  \n",
       "158471          WW Crinkle Cut      Chicken           2        3.4        175  \n",
       "103275         Smiths Crinkle      Original           2       11.4        330  \n",
       "72230    Smiths Crinkle Cut  Salt   Vinegar           2        5.8        170  \n",
       "\n",
       "[264834 rows x 9 columns]"
      ]
     },
     "execution_count": 32,
     "metadata": {},
     "output_type": "execute_result"
    }
   ],
   "source": [
    "td"
   ]
  },
  {
   "cell_type": "code",
   "execution_count": 33,
   "id": "803523de",
   "metadata": {},
   "outputs": [],
   "source": [
    "#There's only 364 rows, meaning only 364 dates which indicates a missing date\n",
    "#Let's create a sequence of dates from 1 Jul 2018 to 30 Jun 2019 and use this to create a chart of number of transactions over time to find the missing date."
   ]
  },
  {
   "cell_type": "code",
   "execution_count": 34,
   "id": "7a8a4aeb",
   "metadata": {},
   "outputs": [
    {
     "data": {
      "text/html": [
       "<div>\n",
       "<style scoped>\n",
       "    .dataframe tbody tr th:only-of-type {\n",
       "        vertical-align: middle;\n",
       "    }\n",
       "\n",
       "    .dataframe tbody tr th {\n",
       "        vertical-align: top;\n",
       "    }\n",
       "\n",
       "    .dataframe thead th {\n",
       "        text-align: right;\n",
       "    }\n",
       "</style>\n",
       "<table border=\"1\" class=\"dataframe\">\n",
       "  <thead>\n",
       "    <tr style=\"text-align: right;\">\n",
       "      <th></th>\n",
       "      <th>TOT_SALES</th>\n",
       "    </tr>\n",
       "    <tr>\n",
       "      <th>DATE</th>\n",
       "      <th></th>\n",
       "    </tr>\n",
       "  </thead>\n",
       "  <tbody>\n",
       "    <tr>\n",
       "      <th>2018-07-01</th>\n",
       "      <td>5372.2</td>\n",
       "    </tr>\n",
       "    <tr>\n",
       "      <th>2018-07-02</th>\n",
       "      <td>5315.4</td>\n",
       "    </tr>\n",
       "    <tr>\n",
       "      <th>2018-07-03</th>\n",
       "      <td>5321.8</td>\n",
       "    </tr>\n",
       "    <tr>\n",
       "      <th>2018-07-04</th>\n",
       "      <td>5309.9</td>\n",
       "    </tr>\n",
       "    <tr>\n",
       "      <th>2018-07-05</th>\n",
       "      <td>5080.9</td>\n",
       "    </tr>\n",
       "    <tr>\n",
       "      <th>...</th>\n",
       "      <td>...</td>\n",
       "    </tr>\n",
       "    <tr>\n",
       "      <th>2019-06-26</th>\n",
       "      <td>5305.0</td>\n",
       "    </tr>\n",
       "    <tr>\n",
       "      <th>2019-06-27</th>\n",
       "      <td>5202.8</td>\n",
       "    </tr>\n",
       "    <tr>\n",
       "      <th>2019-06-28</th>\n",
       "      <td>5299.6</td>\n",
       "    </tr>\n",
       "    <tr>\n",
       "      <th>2019-06-29</th>\n",
       "      <td>5497.6</td>\n",
       "    </tr>\n",
       "    <tr>\n",
       "      <th>2019-06-30</th>\n",
       "      <td>5423.4</td>\n",
       "    </tr>\n",
       "  </tbody>\n",
       "</table>\n",
       "<p>364 rows × 1 columns</p>\n",
       "</div>"
      ],
      "text/plain": [
       "            TOT_SALES\n",
       "DATE                 \n",
       "2018-07-01     5372.2\n",
       "2018-07-02     5315.4\n",
       "2018-07-03     5321.8\n",
       "2018-07-04     5309.9\n",
       "2018-07-05     5080.9\n",
       "...               ...\n",
       "2019-06-26     5305.0\n",
       "2019-06-27     5202.8\n",
       "2019-06-28     5299.6\n",
       "2019-06-29     5497.6\n",
       "2019-06-30     5423.4\n",
       "\n",
       "[364 rows x 1 columns]"
      ]
     },
     "execution_count": 34,
     "metadata": {},
     "output_type": "execute_result"
    }
   ],
   "source": [
    "# Create a new dataframe which contains the total sale for each date\n",
    "a = pd.pivot_table(td, values = 'TOT_SALES', index = 'DATE', aggfunc = 'sum')\n",
    "a"
   ]
  },
  {
   "cell_type": "code",
   "execution_count": 35,
   "id": "71d83355",
   "metadata": {},
   "outputs": [
    {
     "data": {
      "text/plain": [
       "365"
      ]
     },
     "execution_count": 35,
     "metadata": {},
     "output_type": "execute_result"
    }
   ],
   "source": [
    "b = pd.DataFrame(index = pd.date_range(start = '2018-07-01', end = '2019-06-30'))\n",
    "b['TOT_SALES'] = 0\n",
    "len(b)"
   ]
  },
  {
   "cell_type": "code",
   "execution_count": 36,
   "id": "602ae652",
   "metadata": {},
   "outputs": [
    {
     "data": {
      "text/html": [
       "<div>\n",
       "<style scoped>\n",
       "    .dataframe tbody tr th:only-of-type {\n",
       "        vertical-align: middle;\n",
       "    }\n",
       "\n",
       "    .dataframe tbody tr th {\n",
       "        vertical-align: top;\n",
       "    }\n",
       "\n",
       "    .dataframe thead th {\n",
       "        text-align: right;\n",
       "    }\n",
       "</style>\n",
       "<table border=\"1\" class=\"dataframe\">\n",
       "  <thead>\n",
       "    <tr style=\"text-align: right;\">\n",
       "      <th></th>\n",
       "      <th>TOT_SALES</th>\n",
       "    </tr>\n",
       "  </thead>\n",
       "  <tbody>\n",
       "    <tr>\n",
       "      <th>2018-07-01</th>\n",
       "      <td>5372.2</td>\n",
       "    </tr>\n",
       "    <tr>\n",
       "      <th>2018-07-02</th>\n",
       "      <td>5315.4</td>\n",
       "    </tr>\n",
       "    <tr>\n",
       "      <th>2018-07-03</th>\n",
       "      <td>5321.8</td>\n",
       "    </tr>\n",
       "    <tr>\n",
       "      <th>2018-07-04</th>\n",
       "      <td>5309.9</td>\n",
       "    </tr>\n",
       "    <tr>\n",
       "      <th>2018-07-05</th>\n",
       "      <td>5080.9</td>\n",
       "    </tr>\n",
       "    <tr>\n",
       "      <th>...</th>\n",
       "      <td>...</td>\n",
       "    </tr>\n",
       "    <tr>\n",
       "      <th>2019-06-26</th>\n",
       "      <td>5305.0</td>\n",
       "    </tr>\n",
       "    <tr>\n",
       "      <th>2019-06-27</th>\n",
       "      <td>5202.8</td>\n",
       "    </tr>\n",
       "    <tr>\n",
       "      <th>2019-06-28</th>\n",
       "      <td>5299.6</td>\n",
       "    </tr>\n",
       "    <tr>\n",
       "      <th>2019-06-29</th>\n",
       "      <td>5497.6</td>\n",
       "    </tr>\n",
       "    <tr>\n",
       "      <th>2019-06-30</th>\n",
       "      <td>5423.4</td>\n",
       "    </tr>\n",
       "  </tbody>\n",
       "</table>\n",
       "<p>365 rows × 1 columns</p>\n",
       "</div>"
      ],
      "text/plain": [
       "            TOT_SALES\n",
       "2018-07-01     5372.2\n",
       "2018-07-02     5315.4\n",
       "2018-07-03     5321.8\n",
       "2018-07-04     5309.9\n",
       "2018-07-05     5080.9\n",
       "...               ...\n",
       "2019-06-26     5305.0\n",
       "2019-06-27     5202.8\n",
       "2019-06-28     5299.6\n",
       "2019-06-29     5497.6\n",
       "2019-06-30     5423.4\n",
       "\n",
       "[365 rows x 1 columns]"
      ]
     },
     "execution_count": 36,
     "metadata": {},
     "output_type": "execute_result"
    }
   ],
   "source": [
    "c = a + b\n",
    "c.fillna(0, inplace = True)\n",
    "c"
   ]
  },
  {
   "cell_type": "code",
   "execution_count": 37,
   "id": "fe8e0a88",
   "metadata": {},
   "outputs": [
    {
     "data": {
      "text/html": [
       "<div>\n",
       "<style scoped>\n",
       "    .dataframe tbody tr th:only-of-type {\n",
       "        vertical-align: middle;\n",
       "    }\n",
       "\n",
       "    .dataframe tbody tr th {\n",
       "        vertical-align: top;\n",
       "    }\n",
       "\n",
       "    .dataframe thead th {\n",
       "        text-align: right;\n",
       "    }\n",
       "</style>\n",
       "<table border=\"1\" class=\"dataframe\">\n",
       "  <thead>\n",
       "    <tr style=\"text-align: right;\">\n",
       "      <th></th>\n",
       "      <th>Total Sales</th>\n",
       "    </tr>\n",
       "    <tr>\n",
       "      <th>Date</th>\n",
       "      <th></th>\n",
       "    </tr>\n",
       "  </thead>\n",
       "  <tbody>\n",
       "    <tr>\n",
       "      <th>2018-07-01</th>\n",
       "      <td>5372.2</td>\n",
       "    </tr>\n",
       "    <tr>\n",
       "      <th>2018-07-02</th>\n",
       "      <td>5315.4</td>\n",
       "    </tr>\n",
       "    <tr>\n",
       "      <th>2018-07-03</th>\n",
       "      <td>5321.8</td>\n",
       "    </tr>\n",
       "    <tr>\n",
       "      <th>2018-07-04</th>\n",
       "      <td>5309.9</td>\n",
       "    </tr>\n",
       "    <tr>\n",
       "      <th>2018-07-05</th>\n",
       "      <td>5080.9</td>\n",
       "    </tr>\n",
       "    <tr>\n",
       "      <th>...</th>\n",
       "      <td>...</td>\n",
       "    </tr>\n",
       "    <tr>\n",
       "      <th>2019-06-26</th>\n",
       "      <td>5305.0</td>\n",
       "    </tr>\n",
       "    <tr>\n",
       "      <th>2019-06-27</th>\n",
       "      <td>5202.8</td>\n",
       "    </tr>\n",
       "    <tr>\n",
       "      <th>2019-06-28</th>\n",
       "      <td>5299.6</td>\n",
       "    </tr>\n",
       "    <tr>\n",
       "      <th>2019-06-29</th>\n",
       "      <td>5497.6</td>\n",
       "    </tr>\n",
       "    <tr>\n",
       "      <th>2019-06-30</th>\n",
       "      <td>5423.4</td>\n",
       "    </tr>\n",
       "  </tbody>\n",
       "</table>\n",
       "<p>365 rows × 1 columns</p>\n",
       "</div>"
      ],
      "text/plain": [
       "            Total Sales\n",
       "Date                   \n",
       "2018-07-01       5372.2\n",
       "2018-07-02       5315.4\n",
       "2018-07-03       5321.8\n",
       "2018-07-04       5309.9\n",
       "2018-07-05       5080.9\n",
       "...                 ...\n",
       "2019-06-26       5305.0\n",
       "2019-06-27       5202.8\n",
       "2019-06-28       5299.6\n",
       "2019-06-29       5497.6\n",
       "2019-06-30       5423.4\n",
       "\n",
       "[365 rows x 1 columns]"
      ]
     },
     "execution_count": 37,
     "metadata": {},
     "output_type": "execute_result"
    }
   ],
   "source": [
    "c.index.name = 'Date'\n",
    "c.rename(columns = {'TOT_SALES': 'Total Sales'}, inplace = True)\n",
    "c "
   ]
  },
  {
   "cell_type": "code",
   "execution_count": 38,
   "id": "2bb02f30",
   "metadata": {},
   "outputs": [
    {
     "data": {
      "image/png": "[encoded data removed]",
      "text/plain": [
       "<Figure size 720x360 with 1 Axes>"
      ]
     },
     "metadata": {
      "needs_background": "light"
     },
     "output_type": "display_data"
    }
   ],
   "source": [
    "timeline = c.index\n",
    "graph = c['Total Sales']\n",
    "\n",
    "fig, ax = plt.subplots(figsize = (10, 5))\n",
    "ax.plot(timeline, graph)\n",
    "\n",
    "date_form = DateFormatter(\"%Y-%m\")\n",
    "ax.xaxis.set_major_formatter(date_form)\n",
    "plt.title('Total Sales from July 2018 to June 2019')\n",
    "plt.xlabel('Time')\n",
    "plt.ylabel('Total Sales')\n",
    "\n",
    "plt.show()"
   ]
  },
  {
   "cell_type": "code",
   "execution_count": 39,
   "id": "8b0172fb",
   "metadata": {},
   "outputs": [
    {
     "data": {
      "text/html": [
       "<div>\n",
       "<style scoped>\n",
       "    .dataframe tbody tr th:only-of-type {\n",
       "        vertical-align: middle;\n",
       "    }\n",
       "\n",
       "    .dataframe tbody tr th {\n",
       "        vertical-align: top;\n",
       "    }\n",
       "\n",
       "    .dataframe thead th {\n",
       "        text-align: right;\n",
       "    }\n",
       "</style>\n",
       "<table border=\"1\" class=\"dataframe\">\n",
       "  <thead>\n",
       "    <tr style=\"text-align: right;\">\n",
       "      <th></th>\n",
       "      <th>Total Sales</th>\n",
       "    </tr>\n",
       "    <tr>\n",
       "      <th>Date</th>\n",
       "      <th></th>\n",
       "    </tr>\n",
       "  </thead>\n",
       "  <tbody>\n",
       "    <tr>\n",
       "      <th>2018-12-25</th>\n",
       "      <td>0.0</td>\n",
       "    </tr>\n",
       "  </tbody>\n",
       "</table>\n",
       "</div>"
      ],
      "text/plain": [
       "            Total Sales\n",
       "Date                   \n",
       "2018-12-25          0.0"
      ]
     },
     "execution_count": 39,
     "metadata": {},
     "output_type": "execute_result"
    }
   ],
   "source": [
    "#We can see that sales spike up during the December month and zero sale on Christmas Day.\n",
    "# Confirm the date where sales count equals to zero\n",
    "\n",
    "c[c['Total Sales'] == 0]"
   ]
  },
  {
   "cell_type": "code",
   "execution_count": 40,
   "id": "3f3d5c6d",
   "metadata": {},
   "outputs": [
    {
     "data": {
      "text/html": [
       "<div>\n",
       "<style scoped>\n",
       "    .dataframe tbody tr th:only-of-type {\n",
       "        vertical-align: middle;\n",
       "    }\n",
       "\n",
       "    .dataframe tbody tr th {\n",
       "        vertical-align: top;\n",
       "    }\n",
       "\n",
       "    .dataframe thead th {\n",
       "        text-align: right;\n",
       "    }\n",
       "</style>\n",
       "<table border=\"1\" class=\"dataframe\">\n",
       "  <thead>\n",
       "    <tr style=\"text-align: right;\">\n",
       "      <th></th>\n",
       "      <th>Total Sales</th>\n",
       "    </tr>\n",
       "    <tr>\n",
       "      <th>Date</th>\n",
       "      <th></th>\n",
       "    </tr>\n",
       "  </thead>\n",
       "  <tbody>\n",
       "    <tr>\n",
       "      <th>2018-12-01</th>\n",
       "      <td>5427.6</td>\n",
       "    </tr>\n",
       "    <tr>\n",
       "      <th>2018-12-02</th>\n",
       "      <td>5108.2</td>\n",
       "    </tr>\n",
       "    <tr>\n",
       "      <th>2018-12-03</th>\n",
       "      <td>5353.3</td>\n",
       "    </tr>\n",
       "    <tr>\n",
       "      <th>2018-12-04</th>\n",
       "      <td>5167.3</td>\n",
       "    </tr>\n",
       "    <tr>\n",
       "      <th>2018-12-05</th>\n",
       "      <td>5268.0</td>\n",
       "    </tr>\n",
       "  </tbody>\n",
       "</table>\n",
       "</div>"
      ],
      "text/plain": [
       "            Total Sales\n",
       "Date                   \n",
       "2018-12-01       5427.6\n",
       "2018-12-02       5108.2\n",
       "2018-12-03       5353.3\n",
       "2018-12-04       5167.3\n",
       "2018-12-05       5268.0"
      ]
     },
     "execution_count": 40,
     "metadata": {},
     "output_type": "execute_result"
    }
   ],
   "source": [
    "# Let's zoom in at the December month only\n",
    "c_december = c[(c.index < \"2019-01-01\") & (c.index > \"2018-11-30\")]\n",
    "c_december.head()"
   ]
  },
  {
   "cell_type": "code",
   "execution_count": 41,
   "id": "2851da7b",
   "metadata": {},
   "outputs": [
    {
     "data": {
      "text/plain": [
       "Text(0.5, 1.0, 'Total Sales in December')"
      ]
     },
     "execution_count": 41,
     "metadata": {},
     "output_type": "execute_result"
    },
    {
     "data": {
      "image/png": "[encoded data removed]",
      "text/plain": [
       "<Figure size 1080x360 with 1 Axes>"
      ]
     },
     "metadata": {
      "needs_background": "light"
     },
     "output_type": "display_data"
    }
   ],
   "source": [
    "plt.figure(figsize = (15, 5))\n",
    "plt.plot(c_december)\n",
    "plt.xlabel('Date')\n",
    "plt.ylabel('Total Sales')\n",
    "plt.title('Total Sales in December')"
   ]
  },
  {
   "cell_type": "code",
   "execution_count": 42,
   "id": "9cf73a03",
   "metadata": {},
   "outputs": [
    {
     "data": {
      "text/plain": [
       "array([175, 110, 134, 200,  90, 380, 150, 170, 300, 210, 330, 165, 160,\n",
       "       270, 220, 190, 125,  70, 135, 250, 180])"
      ]
     },
     "execution_count": 42,
     "metadata": {},
     "output_type": "execute_result"
    }
   ],
   "source": [
    "#Now that we are satisfied that the data no longer has outliers\n",
    "#we can move on to creating other features such as brand of chips or pack size from PROD_NAME\n",
    "\n",
    "td['PACK_SIZE'].unique()"
   ]
  },
  {
   "cell_type": "code",
   "execution_count": 43,
   "id": "658efb78",
   "metadata": {},
   "outputs": [
    {
     "data": {
      "text/plain": [
       "<AxesSubplot:>"
      ]
     },
     "execution_count": 43,
     "metadata": {},
     "output_type": "execute_result"
    },
    {
     "data": {
      "image/png": "[encoded data removed]",
      "text/plain": [
       "<Figure size 432x288 with 1 Axes>"
      ]
     },
     "metadata": {
      "needs_background": "light"
     },
     "output_type": "display_data"
    }
   ],
   "source": [
    "#The largest size is 380g and the smallest size is 70g - seems sensible!\n",
    "## Let's plot a histogram of PACK_SIZE since we know that it is a categorical variable and not a continuous variable even though it is numeric.\n",
    "td['PACK_SIZE'].hist()"
   ]
  },
  {
   "cell_type": "code",
   "execution_count": 44,
   "id": "0cce2bc0",
   "metadata": {},
   "outputs": [
    {
     "data": {
      "text/html": [
       "<div>\n",
       "<style scoped>\n",
       "    .dataframe tbody tr th:only-of-type {\n",
       "        vertical-align: middle;\n",
       "    }\n",
       "\n",
       "    .dataframe tbody tr th {\n",
       "        vertical-align: top;\n",
       "    }\n",
       "\n",
       "    .dataframe thead th {\n",
       "        text-align: right;\n",
       "    }\n",
       "</style>\n",
       "<table border=\"1\" class=\"dataframe\">\n",
       "  <thead>\n",
       "    <tr style=\"text-align: right;\">\n",
       "      <th></th>\n",
       "      <th>DATE</th>\n",
       "      <th>STORE_NBR</th>\n",
       "      <th>LYLTY_CARD_NBR</th>\n",
       "      <th>TXN_ID</th>\n",
       "      <th>PROD_NBR</th>\n",
       "      <th>PROD_NAME</th>\n",
       "      <th>PROD_QTY</th>\n",
       "      <th>TOT_SALES</th>\n",
       "      <th>PACK_SIZE</th>\n",
       "      <th>BRAND</th>\n",
       "    </tr>\n",
       "  </thead>\n",
       "  <tbody>\n",
       "    <tr>\n",
       "      <th>177004</th>\n",
       "      <td>2019-06-30</td>\n",
       "      <td>100</td>\n",
       "      <td>100099</td>\n",
       "      <td>98981</td>\n",
       "      <td>90</td>\n",
       "      <td>Tostitos Smoked     Chipotle</td>\n",
       "      <td>2</td>\n",
       "      <td>8.8</td>\n",
       "      <td>175</td>\n",
       "      <td>Tostitos</td>\n",
       "    </tr>\n",
       "    <tr>\n",
       "      <th>40823</th>\n",
       "      <td>2019-06-30</td>\n",
       "      <td>97</td>\n",
       "      <td>97085</td>\n",
       "      <td>96824</td>\n",
       "      <td>33</td>\n",
       "      <td>Cobs Popd Swt Chlli  Sr Cream Chips</td>\n",
       "      <td>2</td>\n",
       "      <td>7.6</td>\n",
       "      <td>110</td>\n",
       "      <td>Cobs</td>\n",
       "    </tr>\n",
       "    <tr>\n",
       "      <th>264144</th>\n",
       "      <td>2019-06-30</td>\n",
       "      <td>242</td>\n",
       "      <td>242159</td>\n",
       "      <td>246222</td>\n",
       "      <td>36</td>\n",
       "      <td>Kettle Chilli</td>\n",
       "      <td>2</td>\n",
       "      <td>10.8</td>\n",
       "      <td>175</td>\n",
       "      <td>Kettle</td>\n",
       "    </tr>\n",
       "    <tr>\n",
       "      <th>183724</th>\n",
       "      <td>2019-06-30</td>\n",
       "      <td>241</td>\n",
       "      <td>241082</td>\n",
       "      <td>245022</td>\n",
       "      <td>26</td>\n",
       "      <td>Pringles Sweet Spcy BBQ</td>\n",
       "      <td>2</td>\n",
       "      <td>7.4</td>\n",
       "      <td>134</td>\n",
       "      <td>Pringles</td>\n",
       "    </tr>\n",
       "    <tr>\n",
       "      <th>261276</th>\n",
       "      <td>2019-06-30</td>\n",
       "      <td>113</td>\n",
       "      <td>113051</td>\n",
       "      <td>115705</td>\n",
       "      <td>49</td>\n",
       "      <td>Infuzions SourCream Herbs Veg Strws</td>\n",
       "      <td>2</td>\n",
       "      <td>7.6</td>\n",
       "      <td>110</td>\n",
       "      <td>Infuzions</td>\n",
       "    </tr>\n",
       "  </tbody>\n",
       "</table>\n",
       "</div>"
      ],
      "text/plain": [
       "             DATE  STORE_NBR  LYLTY_CARD_NBR  TXN_ID  PROD_NBR  \\\n",
       "177004 2019-06-30        100          100099   98981        90   \n",
       "40823  2019-06-30         97           97085   96824        33   \n",
       "264144 2019-06-30        242          242159  246222        36   \n",
       "183724 2019-06-30        241          241082  245022        26   \n",
       "261276 2019-06-30        113          113051  115705        49   \n",
       "\n",
       "                                    PROD_NAME  PROD_QTY  TOT_SALES  PACK_SIZE  \\\n",
       "177004         Tostitos Smoked     Chipotle           2        8.8        175   \n",
       "40823   Cobs Popd Swt Chlli  Sr Cream Chips           2        7.6        110   \n",
       "264144                        Kettle Chilli           2       10.8        175   \n",
       "183724              Pringles Sweet Spcy BBQ           2        7.4        134   \n",
       "261276  Infuzions SourCream Herbs Veg Strws           2        7.6        110   \n",
       "\n",
       "            BRAND  \n",
       "177004   Tostitos  \n",
       "40823        Cobs  \n",
       "264144     Kettle  \n",
       "183724   Pringles  \n",
       "261276  Infuzions  "
      ]
     },
     "execution_count": 44,
     "metadata": {},
     "output_type": "execute_result"
    }
   ],
   "source": [
    "# create brands use the first word in PROD_NAME to work out the brand name\n",
    "#create a new column under 'transaction data' dataset called 'Brand''\n",
    "part = td['PROD_NAME'].str.partition()\n",
    "td['BRAND'] = part[0]\n",
    "td.head()"
   ]
  },
  {
   "cell_type": "code",
   "execution_count": 45,
   "id": "4eb3fa2d",
   "metadata": {},
   "outputs": [
    {
     "data": {
      "text/plain": [
       "array(['Tostitos', 'Cobs', 'Kettle', 'Pringles', 'Infuzions', 'Thins',\n",
       "       'WW', 'Smiths', 'Snbts', 'Natural', 'Woolworths', 'Doritos',\n",
       "       'Grain', 'Smith', 'RRD', 'CCs', 'Twisties', 'Burger', 'Cheezels',\n",
       "       'Old', 'Tyrrells', 'NCC', 'French', 'Red', 'Infzns', 'Sunbites',\n",
       "       'Dorito', 'Cheetos', 'GrnWves'], dtype=object)"
      ]
     },
     "execution_count": 45,
     "metadata": {},
     "output_type": "execute_result"
    }
   ],
   "source": [
    "td['BRAND'].unique()"
   ]
  },
  {
   "cell_type": "code",
   "execution_count": 46,
   "id": "2ed2e824",
   "metadata": {},
   "outputs": [
    {
     "data": {
      "text/plain": [
       "array(['Tostitos', 'Cobs', 'Kettle', 'Pringles', 'Infuzions', 'Thins',\n",
       "       'WW', 'Smiths', 'Sunbites', 'Natural', 'Woolworths', 'Doritos',\n",
       "       'Grainwaves', 'RRD', 'CCs', 'Twisties', 'Burger', 'Cheezels',\n",
       "       'Old', 'Tyrrells', 'NCC', 'French', 'Red Rock Deli', 'Cheetos',\n",
       "       'GrnWves'], dtype=object)"
      ]
     },
     "execution_count": 46,
     "metadata": {},
     "output_type": "execute_result"
    }
   ],
   "source": [
    "## Clean brand names\n",
    "td['BRAND'].replace('Infzns', 'Infuzions', inplace = True)\n",
    "td['BRAND'].replace('Ww', 'Woolworths', inplace = True)\n",
    "td['BRAND'].replace('Ncc', 'Natural', inplace = True)\n",
    "td['BRAND'].replace('Ccs', 'CCS', inplace = True)\n",
    "td['BRAND'].replace('Smith', 'Smiths', inplace = True)\n",
    "td['BRAND'].replace(['Grain', 'Grnwves'], 'Grainwaves', inplace = True)\n",
    "td['BRAND'].replace('Dorito', 'Doritos', inplace = True)\n",
    "td['BRAND'].replace(['Red', 'Rrd'], 'Red Rock Deli', inplace = True)\n",
    "td['BRAND'].replace('Snbts', 'Sunbites', inplace = True)\n",
    "\n",
    "td['BRAND'].unique()"
   ]
  },
  {
   "cell_type": "code",
   "execution_count": 47,
   "id": "203d8dae",
   "metadata": {},
   "outputs": [
    {
     "data": {
      "text/plain": [
       "BRAND\n",
       "Kettle           390239.8\n",
       "Doritos          240590.9\n",
       "Smiths           224660.2\n",
       "Pringles         177655.5\n",
       "Infuzions         99047.6\n",
       "Old               90785.1\n",
       "Thins             88852.5\n",
       "Twisties          81522.1\n",
       "Tostitos          79789.6\n",
       "Cobs              70569.8\n",
       "RRD               64954.5\n",
       "Tyrrells          51647.4\n",
       "Grainwaves        43048.8\n",
       "Cheezels          40029.9\n",
       "WW                35889.5\n",
       "Natural           34272.0\n",
       "Red Rock Deli     30091.5\n",
       "CCs               18078.9\n",
       "Cheetos           16884.5\n",
       "Woolworths        13454.1\n",
       "Sunbites           9676.4\n",
       "GrnWves            8568.4\n",
       "NCC                8046.0\n",
       "French             7929.0\n",
       "Burger             6831.0\n",
       "Name: TOT_SALES, dtype: float64"
      ]
     },
     "execution_count": 47,
     "metadata": {},
     "output_type": "execute_result"
    }
   ],
   "source": [
    "# Which brand had the most sales?\n",
    "td.groupby('BRAND').TOT_SALES.sum().sort_values(ascending = False)"
   ]
  },
  {
   "cell_type": "markdown",
   "id": "da440095",
   "metadata": {},
   "source": [
    "# Customer  Data (cd)"
   ]
  },
  {
   "cell_type": "code",
   "execution_count": 48,
   "id": "b589023c",
   "metadata": {},
   "outputs": [
    {
     "data": {
      "text/html": [
       "<div>\n",
       "<style scoped>\n",
       "    .dataframe tbody tr th:only-of-type {\n",
       "        vertical-align: middle;\n",
       "    }\n",
       "\n",
       "    .dataframe tbody tr th {\n",
       "        vertical-align: top;\n",
       "    }\n",
       "\n",
       "    .dataframe thead th {\n",
       "        text-align: right;\n",
       "    }\n",
       "</style>\n",
       "<table border=\"1\" class=\"dataframe\">\n",
       "  <thead>\n",
       "    <tr style=\"text-align: right;\">\n",
       "      <th></th>\n",
       "      <th>LYLTY_CARD_NBR</th>\n",
       "      <th>LIFESTAGE</th>\n",
       "      <th>PREMIUM_CUSTOMER</th>\n",
       "    </tr>\n",
       "  </thead>\n",
       "  <tbody>\n",
       "    <tr>\n",
       "      <th>0</th>\n",
       "      <td>1000</td>\n",
       "      <td>YOUNG SINGLES/COUPLES</td>\n",
       "      <td>Premium</td>\n",
       "    </tr>\n",
       "    <tr>\n",
       "      <th>1</th>\n",
       "      <td>1002</td>\n",
       "      <td>YOUNG SINGLES/COUPLES</td>\n",
       "      <td>Mainstream</td>\n",
       "    </tr>\n",
       "    <tr>\n",
       "      <th>2</th>\n",
       "      <td>1003</td>\n",
       "      <td>YOUNG FAMILIES</td>\n",
       "      <td>Budget</td>\n",
       "    </tr>\n",
       "    <tr>\n",
       "      <th>3</th>\n",
       "      <td>1004</td>\n",
       "      <td>OLDER SINGLES/COUPLES</td>\n",
       "      <td>Mainstream</td>\n",
       "    </tr>\n",
       "    <tr>\n",
       "      <th>4</th>\n",
       "      <td>1005</td>\n",
       "      <td>MIDAGE SINGLES/COUPLES</td>\n",
       "      <td>Mainstream</td>\n",
       "    </tr>\n",
       "    <tr>\n",
       "      <th>...</th>\n",
       "      <td>...</td>\n",
       "      <td>...</td>\n",
       "      <td>...</td>\n",
       "    </tr>\n",
       "    <tr>\n",
       "      <th>72632</th>\n",
       "      <td>2370651</td>\n",
       "      <td>MIDAGE SINGLES/COUPLES</td>\n",
       "      <td>Mainstream</td>\n",
       "    </tr>\n",
       "    <tr>\n",
       "      <th>72633</th>\n",
       "      <td>2370701</td>\n",
       "      <td>YOUNG FAMILIES</td>\n",
       "      <td>Mainstream</td>\n",
       "    </tr>\n",
       "    <tr>\n",
       "      <th>72634</th>\n",
       "      <td>2370751</td>\n",
       "      <td>YOUNG FAMILIES</td>\n",
       "      <td>Premium</td>\n",
       "    </tr>\n",
       "    <tr>\n",
       "      <th>72635</th>\n",
       "      <td>2370961</td>\n",
       "      <td>OLDER FAMILIES</td>\n",
       "      <td>Budget</td>\n",
       "    </tr>\n",
       "    <tr>\n",
       "      <th>72636</th>\n",
       "      <td>2373711</td>\n",
       "      <td>YOUNG SINGLES/COUPLES</td>\n",
       "      <td>Mainstream</td>\n",
       "    </tr>\n",
       "  </tbody>\n",
       "</table>\n",
       "<p>72637 rows × 3 columns</p>\n",
       "</div>"
      ],
      "text/plain": [
       "       LYLTY_CARD_NBR               LIFESTAGE PREMIUM_CUSTOMER\n",
       "0                1000   YOUNG SINGLES/COUPLES          Premium\n",
       "1                1002   YOUNG SINGLES/COUPLES       Mainstream\n",
       "2                1003          YOUNG FAMILIES           Budget\n",
       "3                1004   OLDER SINGLES/COUPLES       Mainstream\n",
       "4                1005  MIDAGE SINGLES/COUPLES       Mainstream\n",
       "...               ...                     ...              ...\n",
       "72632         2370651  MIDAGE SINGLES/COUPLES       Mainstream\n",
       "72633         2370701          YOUNG FAMILIES       Mainstream\n",
       "72634         2370751          YOUNG FAMILIES          Premium\n",
       "72635         2370961          OLDER FAMILIES           Budget\n",
       "72636         2373711   YOUNG SINGLES/COUPLES       Mainstream\n",
       "\n",
       "[72637 rows x 3 columns]"
      ]
     },
     "execution_count": 48,
     "metadata": {},
     "output_type": "execute_result"
    }
   ],
   "source": [
    "cd"
   ]
  },
  {
   "cell_type": "code",
   "execution_count": 49,
   "id": "17bffd23",
   "metadata": {},
   "outputs": [
    {
     "data": {
      "text/plain": [
       "<AxesSubplot:>"
      ]
     },
     "execution_count": 49,
     "metadata": {},
     "output_type": "execute_result"
    },
    {
     "data": {
      "image/png": "[encoded data removed]",
      "text/plain": [
       "<Figure size 1800x720 with 2 Axes>"
      ]
     },
     "metadata": {
      "needs_background": "light"
     },
     "output_type": "display_data"
    }
   ],
   "source": [
    "# Missing values in customerData\n",
    "\n",
    "missingno.matrix(cd)"
   ]
  },
  {
   "cell_type": "code",
   "execution_count": 50,
   "id": "939e0d56",
   "metadata": {},
   "outputs": [
    {
     "data": {
      "text/plain": [
       "72637"
      ]
     },
     "execution_count": 50,
     "metadata": {},
     "output_type": "execute_result"
    }
   ],
   "source": [
    "cd['LYLTY_CARD_NBR'].nunique()"
   ]
  },
  {
   "cell_type": "code",
   "execution_count": 51,
   "id": "dfacdc27",
   "metadata": {},
   "outputs": [
    {
     "data": {
      "text/plain": [
       "7"
      ]
     },
     "execution_count": 51,
     "metadata": {},
     "output_type": "execute_result"
    }
   ],
   "source": [
    "cd['LIFESTAGE'].nunique()"
   ]
  },
  {
   "cell_type": "code",
   "execution_count": 52,
   "id": "23c399cd",
   "metadata": {},
   "outputs": [
    {
     "data": {
      "text/plain": [
       "array(['YOUNG SINGLES/COUPLES', 'YOUNG FAMILIES', 'OLDER SINGLES/COUPLES',\n",
       "       'MIDAGE SINGLES/COUPLES', 'NEW FAMILIES', 'OLDER FAMILIES',\n",
       "       'RETIREES'], dtype=object)"
      ]
     },
     "execution_count": 52,
     "metadata": {},
     "output_type": "execute_result"
    }
   ],
   "source": [
    "cd['LIFESTAGE'].unique()"
   ]
  },
  {
   "cell_type": "code",
   "execution_count": 53,
   "id": "c13ae725",
   "metadata": {},
   "outputs": [
    {
     "data": {
      "text/plain": [
       "RETIREES                  14805\n",
       "OLDER SINGLES/COUPLES     14609\n",
       "YOUNG SINGLES/COUPLES     14441\n",
       "OLDER FAMILIES             9780\n",
       "YOUNG FAMILIES             9178\n",
       "MIDAGE SINGLES/COUPLES     7275\n",
       "NEW FAMILIES               2549\n",
       "Name: LIFESTAGE, dtype: int64"
      ]
     },
     "execution_count": 53,
     "metadata": {},
     "output_type": "execute_result"
    }
   ],
   "source": [
    "cd['LIFESTAGE'].value_counts().sort_values(ascending=False)"
   ]
  },
  {
   "cell_type": "code",
   "execution_count": 54,
   "id": "852d44dc",
   "metadata": {},
   "outputs": [
    {
     "data": {
      "text/plain": [
       "<AxesSubplot:xlabel='count', ylabel='LIFESTAGE'>"
      ]
     },
     "execution_count": 54,
     "metadata": {},
     "output_type": "execute_result"
    },
    {
     "data": {
      "image/png": "[encoded data removed]",
      "text/plain": [
       "<Figure size 432x288 with 1 Axes>"
      ]
     },
     "metadata": {
      "needs_background": "light"
     },
     "output_type": "display_data"
    }
   ],
   "source": [
    "sns.countplot(y = cd['LIFESTAGE'], order = cd['LIFESTAGE'].value_counts().index)"
   ]
  },
  {
   "cell_type": "code",
   "execution_count": 55,
   "id": "c9c41dc7",
   "metadata": {},
   "outputs": [
    {
     "data": {
      "text/plain": [
       "Mainstream    29245\n",
       "Budget        24470\n",
       "Premium       18922\n",
       "Name: PREMIUM_CUSTOMER, dtype: int64"
      ]
     },
     "execution_count": 55,
     "metadata": {},
     "output_type": "execute_result"
    }
   ],
   "source": [
    "# Value counts for each premium customer category\n",
    "\n",
    "cd['PREMIUM_CUSTOMER'].value_counts().sort_values(ascending = False)"
   ]
  },
  {
   "cell_type": "code",
   "execution_count": 56,
   "id": "bfea8ae0",
   "metadata": {},
   "outputs": [
    {
     "data": {
      "text/plain": [
       "<AxesSubplot:xlabel='count', ylabel='PREMIUM_CUSTOMER'>"
      ]
     },
     "execution_count": 56,
     "metadata": {},
     "output_type": "execute_result"
    },
    {
     "data": {
      "image/png": "[encoded data removed]",
      "text/plain": [
       "<Figure size 432x288 with 1 Axes>"
      ]
     },
     "metadata": {
      "needs_background": "light"
     },
     "output_type": "display_data"
    }
   ],
   "source": [
    "sns.countplot(y = cd['PREMIUM_CUSTOMER'], order = cd['PREMIUM_CUSTOMER'].value_counts().index)"
   ]
  },
  {
   "cell_type": "markdown",
   "id": "8bf3d8c7",
   "metadata": {},
   "source": [
    "# Merge transactiondata and customerdata together"
   ]
  },
  {
   "cell_type": "code",
   "execution_count": 57,
   "id": "bd34b9eb",
   "metadata": {},
   "outputs": [],
   "source": [
    "combine_data = pd.merge(td, cd)"
   ]
  },
  {
   "cell_type": "code",
   "execution_count": 58,
   "id": "516f1192",
   "metadata": {},
   "outputs": [
    {
     "data": {
      "text/plain": [
       "DATE                0\n",
       "STORE_NBR           0\n",
       "LYLTY_CARD_NBR      0\n",
       "TXN_ID              0\n",
       "PROD_NBR            0\n",
       "PROD_NAME           0\n",
       "PROD_QTY            0\n",
       "TOT_SALES           0\n",
       "PACK_SIZE           0\n",
       "BRAND               0\n",
       "LIFESTAGE           0\n",
       "PREMIUM_CUSTOMER    0\n",
       "dtype: int64"
      ]
     },
     "execution_count": 58,
     "metadata": {},
     "output_type": "execute_result"
    }
   ],
   "source": [
    "# Check for null values\n",
    "\n",
    "combine_data.isnull().sum()"
   ]
  },
  {
   "cell_type": "code",
   "execution_count": 59,
   "id": "c304ebb2",
   "metadata": {},
   "outputs": [
    {
     "data": {
      "text/plain": [
       "DATE                0\n",
       "STORE_NBR           0\n",
       "LYLTY_CARD_NBR      0\n",
       "TXN_ID              0\n",
       "PROD_NBR            0\n",
       "PROD_NAME           0\n",
       "PROD_QTY            0\n",
       "TOT_SALES           0\n",
       "PACK_SIZE           0\n",
       "BRAND               0\n",
       "LIFESTAGE           0\n",
       "PREMIUM_CUSTOMER    0\n",
       "dtype: int64"
      ]
     },
     "execution_count": 59,
     "metadata": {},
     "output_type": "execute_result"
    }
   ],
   "source": [
    "# Check for n/a values\n",
    "\n",
    "combine_data.isna().sum()"
   ]
  },
  {
   "cell_type": "code",
   "execution_count": 60,
   "id": "2268cd2d",
   "metadata": {},
   "outputs": [
    {
     "data": {
      "text/html": [
       "<div>\n",
       "<style scoped>\n",
       "    .dataframe tbody tr th:only-of-type {\n",
       "        vertical-align: middle;\n",
       "    }\n",
       "\n",
       "    .dataframe tbody tr th {\n",
       "        vertical-align: top;\n",
       "    }\n",
       "\n",
       "    .dataframe thead th {\n",
       "        text-align: right;\n",
       "    }\n",
       "</style>\n",
       "<table border=\"1\" class=\"dataframe\">\n",
       "  <thead>\n",
       "    <tr style=\"text-align: right;\">\n",
       "      <th></th>\n",
       "      <th>DATE</th>\n",
       "      <th>STORE_NBR</th>\n",
       "      <th>LYLTY_CARD_NBR</th>\n",
       "      <th>TXN_ID</th>\n",
       "      <th>PROD_NBR</th>\n",
       "      <th>PROD_NAME</th>\n",
       "      <th>PROD_QTY</th>\n",
       "      <th>TOT_SALES</th>\n",
       "      <th>PACK_SIZE</th>\n",
       "      <th>BRAND</th>\n",
       "      <th>LIFESTAGE</th>\n",
       "      <th>PREMIUM_CUSTOMER</th>\n",
       "    </tr>\n",
       "  </thead>\n",
       "  <tbody>\n",
       "    <tr>\n",
       "      <th>0</th>\n",
       "      <td>2019-06-30</td>\n",
       "      <td>100</td>\n",
       "      <td>100099</td>\n",
       "      <td>98981</td>\n",
       "      <td>90</td>\n",
       "      <td>Tostitos Smoked     Chipotle</td>\n",
       "      <td>2</td>\n",
       "      <td>8.8</td>\n",
       "      <td>175</td>\n",
       "      <td>Tostitos</td>\n",
       "      <td>RETIREES</td>\n",
       "      <td>Premium</td>\n",
       "    </tr>\n",
       "    <tr>\n",
       "      <th>1</th>\n",
       "      <td>2019-05-25</td>\n",
       "      <td>100</td>\n",
       "      <td>100099</td>\n",
       "      <td>98980</td>\n",
       "      <td>103</td>\n",
       "      <td>RRD Steak           Chimuchurri</td>\n",
       "      <td>2</td>\n",
       "      <td>5.4</td>\n",
       "      <td>150</td>\n",
       "      <td>RRD</td>\n",
       "      <td>RETIREES</td>\n",
       "      <td>Premium</td>\n",
       "    </tr>\n",
       "    <tr>\n",
       "      <th>2</th>\n",
       "      <td>2019-02-14</td>\n",
       "      <td>100</td>\n",
       "      <td>100099</td>\n",
       "      <td>98979</td>\n",
       "      <td>15</td>\n",
       "      <td>Twisties Cheese</td>\n",
       "      <td>2</td>\n",
       "      <td>9.2</td>\n",
       "      <td>270</td>\n",
       "      <td>Twisties</td>\n",
       "      <td>RETIREES</td>\n",
       "      <td>Premium</td>\n",
       "    </tr>\n",
       "    <tr>\n",
       "      <th>3</th>\n",
       "      <td>2018-08-23</td>\n",
       "      <td>100</td>\n",
       "      <td>100099</td>\n",
       "      <td>98978</td>\n",
       "      <td>94</td>\n",
       "      <td>Burger Rings</td>\n",
       "      <td>2</td>\n",
       "      <td>4.6</td>\n",
       "      <td>220</td>\n",
       "      <td>Burger</td>\n",
       "      <td>RETIREES</td>\n",
       "      <td>Premium</td>\n",
       "    </tr>\n",
       "    <tr>\n",
       "      <th>4</th>\n",
       "      <td>2018-07-09</td>\n",
       "      <td>100</td>\n",
       "      <td>100099</td>\n",
       "      <td>98977</td>\n",
       "      <td>112</td>\n",
       "      <td>Tyrrells Crisps     Ched   Chives</td>\n",
       "      <td>2</td>\n",
       "      <td>8.4</td>\n",
       "      <td>165</td>\n",
       "      <td>Tyrrells</td>\n",
       "      <td>RETIREES</td>\n",
       "      <td>Premium</td>\n",
       "    </tr>\n",
       "    <tr>\n",
       "      <th>...</th>\n",
       "      <td>...</td>\n",
       "      <td>...</td>\n",
       "      <td>...</td>\n",
       "      <td>...</td>\n",
       "      <td>...</td>\n",
       "      <td>...</td>\n",
       "      <td>...</td>\n",
       "      <td>...</td>\n",
       "      <td>...</td>\n",
       "      <td>...</td>\n",
       "      <td>...</td>\n",
       "      <td>...</td>\n",
       "    </tr>\n",
       "    <tr>\n",
       "      <th>264829</th>\n",
       "      <td>2018-07-01</td>\n",
       "      <td>19</td>\n",
       "      <td>19316</td>\n",
       "      <td>16841</td>\n",
       "      <td>32</td>\n",
       "      <td>Kettle Sea Salt     And Vinegar</td>\n",
       "      <td>2</td>\n",
       "      <td>10.8</td>\n",
       "      <td>175</td>\n",
       "      <td>Kettle</td>\n",
       "      <td>RETIREES</td>\n",
       "      <td>Budget</td>\n",
       "    </tr>\n",
       "    <tr>\n",
       "      <th>264830</th>\n",
       "      <td>2018-07-01</td>\n",
       "      <td>20</td>\n",
       "      <td>20196</td>\n",
       "      <td>17175</td>\n",
       "      <td>102</td>\n",
       "      <td>Kettle Mozzarella   Basil   Pesto</td>\n",
       "      <td>1</td>\n",
       "      <td>5.4</td>\n",
       "      <td>175</td>\n",
       "      <td>Kettle</td>\n",
       "      <td>YOUNG FAMILIES</td>\n",
       "      <td>Budget</td>\n",
       "    </tr>\n",
       "    <tr>\n",
       "      <th>264831</th>\n",
       "      <td>2018-07-01</td>\n",
       "      <td>20</td>\n",
       "      <td>20030</td>\n",
       "      <td>16975</td>\n",
       "      <td>90</td>\n",
       "      <td>Tostitos Smoked     Chipotle</td>\n",
       "      <td>2</td>\n",
       "      <td>8.8</td>\n",
       "      <td>175</td>\n",
       "      <td>Tostitos</td>\n",
       "      <td>RETIREES</td>\n",
       "      <td>Premium</td>\n",
       "    </tr>\n",
       "    <tr>\n",
       "      <th>264832</th>\n",
       "      <td>2018-07-01</td>\n",
       "      <td>74</td>\n",
       "      <td>74003</td>\n",
       "      <td>72864</td>\n",
       "      <td>79</td>\n",
       "      <td>Smiths Chip Thinly  CutSalt Vinegr</td>\n",
       "      <td>2</td>\n",
       "      <td>6.0</td>\n",
       "      <td>175</td>\n",
       "      <td>Smiths</td>\n",
       "      <td>YOUNG SINGLES/COUPLES</td>\n",
       "      <td>Premium</td>\n",
       "    </tr>\n",
       "    <tr>\n",
       "      <th>264833</th>\n",
       "      <td>2018-07-01</td>\n",
       "      <td>249</td>\n",
       "      <td>249111</td>\n",
       "      <td>250979</td>\n",
       "      <td>104</td>\n",
       "      <td>Infuzions Thai SweetChili PotatoMix</td>\n",
       "      <td>2</td>\n",
       "      <td>7.6</td>\n",
       "      <td>110</td>\n",
       "      <td>Infuzions</td>\n",
       "      <td>MIDAGE SINGLES/COUPLES</td>\n",
       "      <td>Mainstream</td>\n",
       "    </tr>\n",
       "  </tbody>\n",
       "</table>\n",
       "<p>264834 rows × 12 columns</p>\n",
       "</div>"
      ],
      "text/plain": [
       "             DATE  STORE_NBR  LYLTY_CARD_NBR  TXN_ID  PROD_NBR  \\\n",
       "0      2019-06-30        100          100099   98981        90   \n",
       "1      2019-05-25        100          100099   98980       103   \n",
       "2      2019-02-14        100          100099   98979        15   \n",
       "3      2018-08-23        100          100099   98978        94   \n",
       "4      2018-07-09        100          100099   98977       112   \n",
       "...           ...        ...             ...     ...       ...   \n",
       "264829 2018-07-01         19           19316   16841        32   \n",
       "264830 2018-07-01         20           20196   17175       102   \n",
       "264831 2018-07-01         20           20030   16975        90   \n",
       "264832 2018-07-01         74           74003   72864        79   \n",
       "264833 2018-07-01        249          249111  250979       104   \n",
       "\n",
       "                                    PROD_NAME  PROD_QTY  TOT_SALES  PACK_SIZE  \\\n",
       "0              Tostitos Smoked     Chipotle           2        8.8        175   \n",
       "1           RRD Steak           Chimuchurri           2        5.4        150   \n",
       "2                       Twisties Cheese               2        9.2        270   \n",
       "3                              Burger Rings           2        4.6        220   \n",
       "4         Tyrrells Crisps     Ched   Chives           2        8.4        165   \n",
       "...                                       ...       ...        ...        ...   \n",
       "264829      Kettle Sea Salt     And Vinegar           2       10.8        175   \n",
       "264830    Kettle Mozzarella   Basil   Pesto           1        5.4        175   \n",
       "264831         Tostitos Smoked     Chipotle           2        8.8        175   \n",
       "264832    Smiths Chip Thinly  CutSalt Vinegr          2        6.0        175   \n",
       "264833  Infuzions Thai SweetChili PotatoMix           2        7.6        110   \n",
       "\n",
       "            BRAND               LIFESTAGE PREMIUM_CUSTOMER  \n",
       "0        Tostitos                RETIREES          Premium  \n",
       "1             RRD                RETIREES          Premium  \n",
       "2        Twisties                RETIREES          Premium  \n",
       "3          Burger                RETIREES          Premium  \n",
       "4        Tyrrells                RETIREES          Premium  \n",
       "...           ...                     ...              ...  \n",
       "264829     Kettle                RETIREES           Budget  \n",
       "264830     Kettle          YOUNG FAMILIES           Budget  \n",
       "264831   Tostitos                RETIREES          Premium  \n",
       "264832     Smiths   YOUNG SINGLES/COUPLES          Premium  \n",
       "264833  Infuzions  MIDAGE SINGLES/COUPLES       Mainstream  \n",
       "\n",
       "[264834 rows x 12 columns]"
      ]
     },
     "execution_count": 60,
     "metadata": {},
     "output_type": "execute_result"
    }
   ],
   "source": [
    "combine_data"
   ]
  },
  {
   "cell_type": "markdown",
   "id": "216c54ba",
   "metadata": {},
   "source": [
    "# Data analysis on customer segments "
   ]
  },
  {
   "cell_type": "markdown",
   "id": "11af786b",
   "metadata": {},
   "source": [
    "Now that the data is ready for analysis, we can define some metrics of interest to\n",
    "the client:\n",
    "- Who spends the most on chips (total sales), describing customers by lifestage and how premium their general purchasing behaviour is\n",
    "- How many customers are in each segment\n",
    "- How many chips are bought per customer by segment\n",
    "- What's the average chip price by customer segment\n",
    "\n",
    "We could also ask our data team for more information. Examples are:\n",
    "- The customer's total spend over the period and total spend for each transaction to understand what proportion of their grocery spend is on chips\n",
    "- Proportion of customers in each customer segment overall to compare against the mix of customers who purchase chips"
   ]
  },
  {
   "cell_type": "code",
   "execution_count": 61,
   "id": "692c517a",
   "metadata": {},
   "outputs": [
    {
     "data": {
      "text/html": [
       "<div>\n",
       "<style scoped>\n",
       "    .dataframe tbody tr th:only-of-type {\n",
       "        vertical-align: middle;\n",
       "    }\n",
       "\n",
       "    .dataframe tbody tr th {\n",
       "        vertical-align: top;\n",
       "    }\n",
       "\n",
       "    .dataframe thead th {\n",
       "        text-align: right;\n",
       "    }\n",
       "</style>\n",
       "<table border=\"1\" class=\"dataframe\">\n",
       "  <thead>\n",
       "    <tr style=\"text-align: right;\">\n",
       "      <th></th>\n",
       "      <th></th>\n",
       "      <th>Total Sales</th>\n",
       "    </tr>\n",
       "    <tr>\n",
       "      <th>PREMIUM_CUSTOMER</th>\n",
       "      <th>LIFESTAGE</th>\n",
       "      <th></th>\n",
       "    </tr>\n",
       "  </thead>\n",
       "  <tbody>\n",
       "    <tr>\n",
       "      <th>Budget</th>\n",
       "      <th>OLDER FAMILIES</th>\n",
       "      <td>168363.25</td>\n",
       "    </tr>\n",
       "    <tr>\n",
       "      <th rowspan=\"2\" valign=\"top\">Mainstream</th>\n",
       "      <th>YOUNG SINGLES/COUPLES</th>\n",
       "      <td>157621.60</td>\n",
       "    </tr>\n",
       "    <tr>\n",
       "      <th>RETIREES</th>\n",
       "      <td>155677.05</td>\n",
       "    </tr>\n",
       "    <tr>\n",
       "      <th rowspan=\"2\" valign=\"top\">Budget</th>\n",
       "      <th>YOUNG FAMILIES</th>\n",
       "      <td>139345.85</td>\n",
       "    </tr>\n",
       "    <tr>\n",
       "      <th>OLDER SINGLES/COUPLES</th>\n",
       "      <td>136769.80</td>\n",
       "    </tr>\n",
       "  </tbody>\n",
       "</table>\n",
       "</div>"
      ],
      "text/plain": [
       "                                        Total Sales\n",
       "PREMIUM_CUSTOMER LIFESTAGE                         \n",
       "Budget           OLDER FAMILIES           168363.25\n",
       "Mainstream       YOUNG SINGLES/COUPLES    157621.60\n",
       "                 RETIREES                 155677.05\n",
       "Budget           YOUNG FAMILIES           139345.85\n",
       "                 OLDER SINGLES/COUPLES    136769.80"
      ]
     },
     "execution_count": 61,
     "metadata": {},
     "output_type": "execute_result"
    }
   ],
   "source": [
    "# Total sales by PREMIUM_CUSTOMER and LIFESTAGE\n",
    "sales = pd.DataFrame(combine_data.groupby(['PREMIUM_CUSTOMER','LIFESTAGE']).TOT_SALES.sum())\n",
    "sales.rename(columns={'TOT_SALES':'Total Sales'},inplace=True)\n",
    "sales.sort_values(by='Total Sales',ascending=False).head()"
   ]
  },
  {
   "cell_type": "code",
   "execution_count": 62,
   "id": "efa99f8f",
   "metadata": {},
   "outputs": [
    {
     "data": {
      "text/plain": [
       "<matplotlib.legend.Legend at 0x7fc9a7fb0820>"
      ]
     },
     "execution_count": 62,
     "metadata": {},
     "output_type": "execute_result"
    },
    {
     "data": {
      "image/png": "[encoded data removed]",
      "text/plain": [
       "<Figure size 864x504 with 1 Axes>"
      ]
     },
     "metadata": {
      "needs_background": "light"
     },
     "output_type": "display_data"
    }
   ],
   "source": [
    "#visualize\n",
    "salesPlot = pd.DataFrame(combine_data.groupby(['LIFESTAGE', 'PREMIUM_CUSTOMER']).TOT_SALES.sum())\n",
    "salesPlot.unstack().plot(kind = 'bar', stacked = True, figsize = (12, 7), title = 'Total Sales by Customer Segment')\n",
    "plt.ylabel('Total Sales')\n",
    "plt.legend(['Budget', 'Mainstream', 'Premium'], loc = 2)"
   ]
  },
  {
   "cell_type": "markdown",
   "id": "341541b9",
   "metadata": {},
   "source": [
    "Top 3 sales come from budget older families, mainstream young singles/couples and mainstream retirees."
   ]
  },
  {
   "cell_type": "code",
   "execution_count": 63,
   "id": "2e076727",
   "metadata": {},
   "outputs": [
    {
     "data": {
      "text/html": [
       "<div>\n",
       "<style scoped>\n",
       "    .dataframe tbody tr th:only-of-type {\n",
       "        vertical-align: middle;\n",
       "    }\n",
       "\n",
       "    .dataframe tbody tr th {\n",
       "        vertical-align: top;\n",
       "    }\n",
       "\n",
       "    .dataframe thead th {\n",
       "        text-align: right;\n",
       "    }\n",
       "</style>\n",
       "<table border=\"1\" class=\"dataframe\">\n",
       "  <thead>\n",
       "    <tr style=\"text-align: right;\">\n",
       "      <th></th>\n",
       "      <th></th>\n",
       "      <th>Number of Customers</th>\n",
       "    </tr>\n",
       "    <tr>\n",
       "      <th>PREMIUM_CUSTOMER</th>\n",
       "      <th>LIFESTAGE</th>\n",
       "      <th></th>\n",
       "    </tr>\n",
       "  </thead>\n",
       "  <tbody>\n",
       "    <tr>\n",
       "      <th rowspan=\"3\" valign=\"top\">Mainstream</th>\n",
       "      <th>YOUNG SINGLES/COUPLES</th>\n",
       "      <td>8088</td>\n",
       "    </tr>\n",
       "    <tr>\n",
       "      <th>RETIREES</th>\n",
       "      <td>6479</td>\n",
       "    </tr>\n",
       "    <tr>\n",
       "      <th>OLDER SINGLES/COUPLES</th>\n",
       "      <td>4930</td>\n",
       "    </tr>\n",
       "    <tr>\n",
       "      <th>Budget</th>\n",
       "      <th>OLDER SINGLES/COUPLES</th>\n",
       "      <td>4929</td>\n",
       "    </tr>\n",
       "    <tr>\n",
       "      <th>Premium</th>\n",
       "      <th>OLDER SINGLES/COUPLES</th>\n",
       "      <td>4750</td>\n",
       "    </tr>\n",
       "  </tbody>\n",
       "</table>\n",
       "</div>"
      ],
      "text/plain": [
       "                                        Number of Customers\n",
       "PREMIUM_CUSTOMER LIFESTAGE                                 \n",
       "Mainstream       YOUNG SINGLES/COUPLES                 8088\n",
       "                 RETIREES                              6479\n",
       "                 OLDER SINGLES/COUPLES                 4930\n",
       "Budget           OLDER SINGLES/COUPLES                 4929\n",
       "Premium          OLDER SINGLES/COUPLES                 4750"
      ]
     },
     "execution_count": 63,
     "metadata": {},
     "output_type": "execute_result"
    }
   ],
   "source": [
    "# Number of customers by PREMIUM_CUSTOMER and LIFESTAGE\n",
    "\n",
    "customers = pd.DataFrame(combine_data.groupby(['PREMIUM_CUSTOMER', 'LIFESTAGE']).LYLTY_CARD_NBR.nunique())\n",
    "customers.rename(columns = {'LYLTY_CARD_NBR': 'Number of Customers'}, inplace = True)\n",
    "customers.sort_values(by = 'Number of Customers', ascending = False).head()"
   ]
  },
  {
   "cell_type": "code",
   "execution_count": 64,
   "id": "c793c671",
   "metadata": {},
   "outputs": [
    {
     "data": {
      "text/plain": [
       "<matplotlib.legend.Legend at 0x7fc9c68a43a0>"
      ]
     },
     "execution_count": 64,
     "metadata": {},
     "output_type": "execute_result"
    },
    {
     "data": {
      "image/png": "[encoded data removed]",
      "text/plain": [
       "<Figure size 864x504 with 1 Axes>"
      ]
     },
     "metadata": {
      "needs_background": "light"
     },
     "output_type": "display_data"
    }
   ],
   "source": [
    "# Visualise\n",
    "\n",
    "customersPlot = pd.DataFrame(combine_data.groupby(['LIFESTAGE', 'PREMIUM_CUSTOMER']).LYLTY_CARD_NBR.nunique())\n",
    "customersPlot.unstack().plot(kind = 'bar', stacked = True, figsize = (12, 7), title = 'Number of Customers by Customer Segment')\n",
    "plt.ylabel('Number of Customers')\n",
    "plt.legend(['Budget', 'Mainstream', 'Premium'], loc = 2)"
   ]
  },
  {
   "cell_type": "markdown",
   "id": "39461487",
   "metadata": {},
   "source": [
    "There are more mainstream young singles/couples and retirees. This contributes to more chips sales in these categories however this is not the major driver for the budget older families segment."
   ]
  },
  {
   "cell_type": "code",
   "execution_count": 65,
   "id": "24b72474",
   "metadata": {},
   "outputs": [
    {
     "data": {
      "text/html": [
       "<div>\n",
       "<style scoped>\n",
       "    .dataframe tbody tr th:only-of-type {\n",
       "        vertical-align: middle;\n",
       "    }\n",
       "\n",
       "    .dataframe tbody tr th {\n",
       "        vertical-align: top;\n",
       "    }\n",
       "\n",
       "    .dataframe thead th {\n",
       "        text-align: right;\n",
       "    }\n",
       "</style>\n",
       "<table border=\"1\" class=\"dataframe\">\n",
       "  <thead>\n",
       "    <tr style=\"text-align: right;\">\n",
       "      <th></th>\n",
       "      <th></th>\n",
       "      <th>Average Unit per Customer</th>\n",
       "    </tr>\n",
       "    <tr>\n",
       "      <th>PREMIUM_CUSTOMER</th>\n",
       "      <th>LIFESTAGE</th>\n",
       "      <th></th>\n",
       "    </tr>\n",
       "  </thead>\n",
       "  <tbody>\n",
       "    <tr>\n",
       "      <th>Mainstream</th>\n",
       "      <th>OLDER FAMILIES</th>\n",
       "      <td>9.804309</td>\n",
       "    </tr>\n",
       "    <tr>\n",
       "      <th>Budget</th>\n",
       "      <th>OLDER FAMILIES</th>\n",
       "      <td>9.639572</td>\n",
       "    </tr>\n",
       "    <tr>\n",
       "      <th>Premium</th>\n",
       "      <th>OLDER FAMILIES</th>\n",
       "      <td>9.578091</td>\n",
       "    </tr>\n",
       "    <tr>\n",
       "      <th>Budget</th>\n",
       "      <th>YOUNG FAMILIES</th>\n",
       "      <td>9.238486</td>\n",
       "    </tr>\n",
       "    <tr>\n",
       "      <th>Premium</th>\n",
       "      <th>YOUNG FAMILIES</th>\n",
       "      <td>9.209207</td>\n",
       "    </tr>\n",
       "  </tbody>\n",
       "</table>\n",
       "</div>"
      ],
      "text/plain": [
       "                                 Average Unit per Customer\n",
       "PREMIUM_CUSTOMER LIFESTAGE                                \n",
       "Mainstream       OLDER FAMILIES                   9.804309\n",
       "Budget           OLDER FAMILIES                   9.639572\n",
       "Premium          OLDER FAMILIES                   9.578091\n",
       "Budget           YOUNG FAMILIES                   9.238486\n",
       "Premium          YOUNG FAMILIES                   9.209207"
      ]
     },
     "execution_count": 65,
     "metadata": {},
     "output_type": "execute_result"
    }
   ],
   "source": [
    "# Average units per customer by PREMIUM_CUSTOMER and LIFESTAGE\n",
    "\n",
    "avg_units = combine_data.groupby(['PREMIUM_CUSTOMER', 'LIFESTAGE']).PROD_QTY.sum() / combine_data.groupby(['PREMIUM_CUSTOMER', 'LIFESTAGE']).LYLTY_CARD_NBR.nunique()\n",
    "avg_units = pd.DataFrame(avg_units, columns = {'Average Unit per Customer'})\n",
    "avg_units.sort_values(by = 'Average Unit per Customer', ascending = False).head()"
   ]
  },
  {
   "cell_type": "code",
   "execution_count": 66,
   "id": "8fb51065",
   "metadata": {},
   "outputs": [
    {
     "data": {
      "text/plain": [
       "<matplotlib.legend.Legend at 0x7fc9a807ceb0>"
      ]
     },
     "execution_count": 66,
     "metadata": {},
     "output_type": "execute_result"
    },
    {
     "data": {
      "image/png": "[encoded data removed]",
      "text/plain": [
       "<Figure size 864x504 with 1 Axes>"
      ]
     },
     "metadata": {
      "needs_background": "light"
     },
     "output_type": "display_data"
    }
   ],
   "source": [
    "# Visualise \n",
    "\n",
    "avgUnitsPlot = pd.DataFrame(combine_data.groupby(['LIFESTAGE', 'PREMIUM_CUSTOMER']).PROD_QTY.sum() / combine_data.groupby(['PREMIUM_CUSTOMER', 'LIFESTAGE']).LYLTY_CARD_NBR.nunique())\n",
    "avgUnitsPlot.unstack().plot(kind = 'bar', figsize = (12, 7), title = 'Average Unit by Customer Segment')\n",
    "plt.ylabel('Average Number of Units')\n",
    "plt.legend(['Budget', 'Mainstream', 'Premium'], loc = 2)"
   ]
  },
  {
   "cell_type": "markdown",
   "id": "eaf58fa3",
   "metadata": {},
   "source": [
    "Older families and young families buy more chips per customer"
   ]
  },
  {
   "cell_type": "code",
   "execution_count": 67,
   "id": "52cd7492",
   "metadata": {},
   "outputs": [
    {
     "data": {
      "text/html": [
       "<div>\n",
       "<style scoped>\n",
       "    .dataframe tbody tr th:only-of-type {\n",
       "        vertical-align: middle;\n",
       "    }\n",
       "\n",
       "    .dataframe tbody tr th {\n",
       "        vertical-align: top;\n",
       "    }\n",
       "\n",
       "    .dataframe thead th {\n",
       "        text-align: right;\n",
       "    }\n",
       "</style>\n",
       "<table border=\"1\" class=\"dataframe\">\n",
       "  <thead>\n",
       "    <tr style=\"text-align: right;\">\n",
       "      <th></th>\n",
       "      <th></th>\n",
       "      <th>Price per Unit</th>\n",
       "    </tr>\n",
       "    <tr>\n",
       "      <th>PREMIUM_CUSTOMER</th>\n",
       "      <th>LIFESTAGE</th>\n",
       "      <th></th>\n",
       "    </tr>\n",
       "  </thead>\n",
       "  <tbody>\n",
       "    <tr>\n",
       "      <th rowspan=\"3\" valign=\"top\">Mainstream</th>\n",
       "      <th>YOUNG SINGLES/COUPLES</th>\n",
       "      <td>4.080079</td>\n",
       "    </tr>\n",
       "    <tr>\n",
       "      <th>MIDAGE SINGLES/COUPLES</th>\n",
       "      <td>4.000346</td>\n",
       "    </tr>\n",
       "    <tr>\n",
       "      <th>NEW FAMILIES</th>\n",
       "      <td>3.939315</td>\n",
       "    </tr>\n",
       "    <tr>\n",
       "      <th rowspan=\"2\" valign=\"top\">Budget</th>\n",
       "      <th>NEW FAMILIES</th>\n",
       "      <td>3.936178</td>\n",
       "    </tr>\n",
       "    <tr>\n",
       "      <th>RETIREES</th>\n",
       "      <td>3.933660</td>\n",
       "    </tr>\n",
       "  </tbody>\n",
       "</table>\n",
       "</div>"
      ],
      "text/plain": [
       "                                         Price per Unit\n",
       "PREMIUM_CUSTOMER LIFESTAGE                             \n",
       "Mainstream       YOUNG SINGLES/COUPLES         4.080079\n",
       "                 MIDAGE SINGLES/COUPLES        4.000346\n",
       "                 NEW FAMILIES                  3.939315\n",
       "Budget           NEW FAMILIES                  3.936178\n",
       "                 RETIREES                      3.933660"
      ]
     },
     "execution_count": 67,
     "metadata": {},
     "output_type": "execute_result"
    }
   ],
   "source": [
    "# Average price per unit by PREMIUM_CUSTOMER and LIFESTAGE\n",
    "\n",
    "avg_price = combine_data.groupby(['PREMIUM_CUSTOMER', 'LIFESTAGE']).TOT_SALES.sum() / combine_data.groupby(['PREMIUM_CUSTOMER', 'LIFESTAGE']).PROD_QTY.sum()\n",
    "avg_price = pd.DataFrame(avg_price, columns = {'Price per Unit'})\n",
    "avg_price.sort_values(by = 'Price per Unit', ascending = False).head()"
   ]
  },
  {
   "cell_type": "code",
   "execution_count": 68,
   "id": "d2db33fd",
   "metadata": {},
   "outputs": [
    {
     "data": {
      "text/plain": [
       "<matplotlib.legend.Legend at 0x7fc9aa4fcb50>"
      ]
     },
     "execution_count": 68,
     "metadata": {},
     "output_type": "execute_result"
    },
    {
     "data": {
      "image/png": "[encoded data removed]",
      "text/plain": [
       "<Figure size 864x504 with 1 Axes>"
      ]
     },
     "metadata": {
      "needs_background": "light"
     },
     "output_type": "display_data"
    }
   ],
   "source": [
    "# Visualise \n",
    "\n",
    "avgPricePlot = pd.DataFrame(combine_data.groupby(['LIFESTAGE', 'PREMIUM_CUSTOMER']).TOT_SALES.sum() / combine_data.groupby(['LIFESTAGE', 'PREMIUM_CUSTOMER']).PROD_QTY.sum())\n",
    "avgPricePlot.unstack().plot(kind = 'bar', figsize = (12, 7), title = 'Average Price by Customer Segment', ylim = (0, 6))\n",
    "plt.ylabel('Average Price')\n",
    "plt.legend(['Budget', 'Mainstream', 'Premium'], loc = 2)"
   ]
  },
  {
   "cell_type": "markdown",
   "id": "53d4e923",
   "metadata": {},
   "source": [
    "Mainstream midage and young singles and couples are more willing to pay more per packet of chips compared to their budget and premium counterparts. This may be due to premium shoppers being more likely to buy healthy snacks and when they do buy chips, it is mainly for entertainment purposes rather than their own consumption. This is also supported by there being fewer premium midage and young singles and couples buying chips compared to their mainstream counterparts."
   ]
  },
  {
   "cell_type": "code",
   "execution_count": 69,
   "id": "6540b472",
   "metadata": {},
   "outputs": [
    {
     "data": {
      "text/html": [
       "<div>\n",
       "<style scoped>\n",
       "    .dataframe tbody tr th:only-of-type {\n",
       "        vertical-align: middle;\n",
       "    }\n",
       "\n",
       "    .dataframe tbody tr th {\n",
       "        vertical-align: top;\n",
       "    }\n",
       "\n",
       "    .dataframe thead th {\n",
       "        text-align: right;\n",
       "    }\n",
       "</style>\n",
       "<table border=\"1\" class=\"dataframe\">\n",
       "  <thead>\n",
       "    <tr style=\"text-align: right;\">\n",
       "      <th></th>\n",
       "      <th>DATE</th>\n",
       "      <th>STORE_NBR</th>\n",
       "      <th>LYLTY_CARD_NBR</th>\n",
       "      <th>TXN_ID</th>\n",
       "      <th>PROD_NBR</th>\n",
       "      <th>PROD_NAME</th>\n",
       "      <th>PROD_QTY</th>\n",
       "      <th>TOT_SALES</th>\n",
       "      <th>PACK_SIZE</th>\n",
       "      <th>BRAND</th>\n",
       "      <th>LIFESTAGE</th>\n",
       "      <th>PREMIUM_CUSTOMER</th>\n",
       "      <th>PRICE</th>\n",
       "    </tr>\n",
       "  </thead>\n",
       "  <tbody>\n",
       "    <tr>\n",
       "      <th>0</th>\n",
       "      <td>2019-06-30</td>\n",
       "      <td>100</td>\n",
       "      <td>100099</td>\n",
       "      <td>98981</td>\n",
       "      <td>90</td>\n",
       "      <td>Tostitos Smoked     Chipotle</td>\n",
       "      <td>2</td>\n",
       "      <td>8.8</td>\n",
       "      <td>175</td>\n",
       "      <td>Tostitos</td>\n",
       "      <td>RETIREES</td>\n",
       "      <td>Premium</td>\n",
       "      <td>4.4</td>\n",
       "    </tr>\n",
       "    <tr>\n",
       "      <th>1</th>\n",
       "      <td>2019-05-25</td>\n",
       "      <td>100</td>\n",
       "      <td>100099</td>\n",
       "      <td>98980</td>\n",
       "      <td>103</td>\n",
       "      <td>RRD Steak           Chimuchurri</td>\n",
       "      <td>2</td>\n",
       "      <td>5.4</td>\n",
       "      <td>150</td>\n",
       "      <td>RRD</td>\n",
       "      <td>RETIREES</td>\n",
       "      <td>Premium</td>\n",
       "      <td>2.7</td>\n",
       "    </tr>\n",
       "    <tr>\n",
       "      <th>2</th>\n",
       "      <td>2019-02-14</td>\n",
       "      <td>100</td>\n",
       "      <td>100099</td>\n",
       "      <td>98979</td>\n",
       "      <td>15</td>\n",
       "      <td>Twisties Cheese</td>\n",
       "      <td>2</td>\n",
       "      <td>9.2</td>\n",
       "      <td>270</td>\n",
       "      <td>Twisties</td>\n",
       "      <td>RETIREES</td>\n",
       "      <td>Premium</td>\n",
       "      <td>4.6</td>\n",
       "    </tr>\n",
       "    <tr>\n",
       "      <th>3</th>\n",
       "      <td>2018-08-23</td>\n",
       "      <td>100</td>\n",
       "      <td>100099</td>\n",
       "      <td>98978</td>\n",
       "      <td>94</td>\n",
       "      <td>Burger Rings</td>\n",
       "      <td>2</td>\n",
       "      <td>4.6</td>\n",
       "      <td>220</td>\n",
       "      <td>Burger</td>\n",
       "      <td>RETIREES</td>\n",
       "      <td>Premium</td>\n",
       "      <td>2.3</td>\n",
       "    </tr>\n",
       "    <tr>\n",
       "      <th>4</th>\n",
       "      <td>2018-07-09</td>\n",
       "      <td>100</td>\n",
       "      <td>100099</td>\n",
       "      <td>98977</td>\n",
       "      <td>112</td>\n",
       "      <td>Tyrrells Crisps     Ched   Chives</td>\n",
       "      <td>2</td>\n",
       "      <td>8.4</td>\n",
       "      <td>165</td>\n",
       "      <td>Tyrrells</td>\n",
       "      <td>RETIREES</td>\n",
       "      <td>Premium</td>\n",
       "      <td>4.2</td>\n",
       "    </tr>\n",
       "  </tbody>\n",
       "</table>\n",
       "</div>"
      ],
      "text/plain": [
       "        DATE  STORE_NBR  LYLTY_CARD_NBR  TXN_ID  PROD_NBR  \\\n",
       "0 2019-06-30        100          100099   98981        90   \n",
       "1 2019-05-25        100          100099   98980       103   \n",
       "2 2019-02-14        100          100099   98979        15   \n",
       "3 2018-08-23        100          100099   98978        94   \n",
       "4 2018-07-09        100          100099   98977       112   \n",
       "\n",
       "                             PROD_NAME  PROD_QTY  TOT_SALES  PACK_SIZE  \\\n",
       "0       Tostitos Smoked     Chipotle           2        8.8        175   \n",
       "1    RRD Steak           Chimuchurri           2        5.4        150   \n",
       "2                Twisties Cheese               2        9.2        270   \n",
       "3                       Burger Rings           2        4.6        220   \n",
       "4  Tyrrells Crisps     Ched   Chives           2        8.4        165   \n",
       "\n",
       "      BRAND LIFESTAGE PREMIUM_CUSTOMER  PRICE  \n",
       "0  Tostitos  RETIREES          Premium    4.4  \n",
       "1       RRD  RETIREES          Premium    2.7  \n",
       "2  Twisties  RETIREES          Premium    4.6  \n",
       "3    Burger  RETIREES          Premium    2.3  \n",
       "4  Tyrrells  RETIREES          Premium    4.2  "
      ]
     },
     "execution_count": 69,
     "metadata": {},
     "output_type": "execute_result"
    }
   ],
   "source": [
    "# Perform an independent t-test between mainstream vs non-mainstream midage and young singles/couples to test this difference\n",
    "\n",
    "# Create a new dataframe pricePerUnit\n",
    "pricePerUnit = combine_data\n",
    "\n",
    "# Create a new column under pricePerUnit called PRICE\n",
    "pricePerUnit['PRICE'] = pricePerUnit['TOT_SALES'] / pricePerUnit['PROD_QTY']\n",
    "\n",
    "# Let's have a look\n",
    "pricePerUnit.head()"
   ]
  },
  {
   "cell_type": "code",
   "execution_count": 70,
   "id": "27a397e8",
   "metadata": {},
   "outputs": [],
   "source": [
    "# Let's group our data into mainstream and non-mainstream\n",
    "\n",
    "mainstream = pricePerUnit.loc[(pricePerUnit['PREMIUM_CUSTOMER'] == 'Mainstream') & ( (pricePerUnit['LIFESTAGE'] == 'YOUNG SINGLES/COUPLES') | (pricePerUnit['LIFESTAGE'] == 'MIDAGE SINGLES/COUPLES') ), 'PRICE']\n",
    "nonMainstream = pricePerUnit.loc[(pricePerUnit['PREMIUM_CUSTOMER'] != 'Mainstream') & ( (pricePerUnit['LIFESTAGE'] == 'YOUNG SINGLES/COUPLES') | (pricePerUnit['LIFESTAGE'] == 'MIDAGE SINGLES/COUPLES') ), 'PRICE']\n"
   ]
  },
  {
   "cell_type": "code",
   "execution_count": 71,
   "id": "4bb7417b",
   "metadata": {},
   "outputs": [
    {
     "data": {
      "text/plain": [
       "Text(0.5, 0, 'Price per Unit')"
      ]
     },
     "execution_count": 71,
     "metadata": {},
     "output_type": "execute_result"
    },
    {
     "data": {
      "image/png": "[encoded data removed]",
      "text/plain": [
       "<Figure size 720x360 with 1 Axes>"
      ]
     },
     "metadata": {
      "needs_background": "light"
     },
     "output_type": "display_data"
    }
   ],
   "source": [
    "# Compare histograms of mainstream and non-mainstream customers\n",
    "\n",
    "plt.figure(figsize = (10, 5))\n",
    "plt.hist(mainstream, label = 'Mainstream')\n",
    "plt.hist(nonMainstream, label = 'Premium & Budget')\n",
    "plt.legend()\n",
    "plt.xlabel('Price per Unit')"
   ]
  },
  {
   "cell_type": "code",
   "execution_count": 72,
   "id": "824f4367",
   "metadata": {},
   "outputs": [
    {
     "name": "stdout",
     "output_type": "stream",
     "text": [
      "Mainstream average price per unit: $4.05\n",
      "Non-mainstream average price per unit: $3.69\n",
      "Mainstream customers have higher average price per unit. \n"
     ]
    }
   ],
   "source": [
    "print(\"Mainstream average price per unit: ${:.2f}\".format(np.mean(mainstream)))\n",
    "print(\"Non-mainstream average price per unit: ${:.2f}\".format(np.mean(nonMainstream)))\n",
    "if np.mean(mainstream) > np.mean(nonMainstream):\n",
    "    print(\"Mainstream customers have higher average price per unit. \")\n",
    "else:\n",
    "    print(\"Non-mainstream customers have a higher average price per unit. \")"
   ]
  },
  {
   "cell_type": "code",
   "execution_count": 73,
   "id": "13a61f96",
   "metadata": {},
   "outputs": [
    {
     "data": {
      "text/plain": [
       "Ttest_indResult(statistic=40.8341367879116, pvalue=0.0)"
      ]
     },
     "execution_count": 73,
     "metadata": {},
     "output_type": "execute_result"
    }
   ],
   "source": [
    "# Perform t-test \n",
    "\n",
    "ttest_ind(mainstream, nonMainstream)"
   ]
  },
  {
   "cell_type": "markdown",
   "id": "fcf086b2",
   "metadata": {},
   "source": [
    "Mainstream customers have higher average price per unit than that of non-mainstream customers.\n",
    "\n",
    "We have found quite a few interesting insights that we can dive deeper into. For example, we might want to target customers segments that contribute the most to sales to retain them to further increase sales. Let's examine mainstream young singles/couples against the rest of the cutomer segments to see if they prefer any particular brand of chips."
   ]
  },
  {
   "cell_type": "code",
   "execution_count": 74,
   "id": "f1acbc25",
   "metadata": {},
   "outputs": [
    {
     "data": {
      "text/html": [
       "<div>\n",
       "<style scoped>\n",
       "    .dataframe tbody tr th:only-of-type {\n",
       "        vertical-align: middle;\n",
       "    }\n",
       "\n",
       "    .dataframe tbody tr th {\n",
       "        vertical-align: top;\n",
       "    }\n",
       "\n",
       "    .dataframe thead th {\n",
       "        text-align: right;\n",
       "    }\n",
       "</style>\n",
       "<table border=\"1\" class=\"dataframe\">\n",
       "  <thead>\n",
       "    <tr style=\"text-align: right;\">\n",
       "      <th></th>\n",
       "      <th>DATE</th>\n",
       "      <th>STORE_NBR</th>\n",
       "      <th>LYLTY_CARD_NBR</th>\n",
       "      <th>TXN_ID</th>\n",
       "      <th>PROD_NBR</th>\n",
       "      <th>PROD_NAME</th>\n",
       "      <th>PROD_QTY</th>\n",
       "      <th>TOT_SALES</th>\n",
       "      <th>PACK_SIZE</th>\n",
       "      <th>BRAND</th>\n",
       "      <th>LIFESTAGE</th>\n",
       "      <th>PREMIUM_CUSTOMER</th>\n",
       "      <th>PRICE</th>\n",
       "    </tr>\n",
       "  </thead>\n",
       "  <tbody>\n",
       "    <tr>\n",
       "      <th>22</th>\n",
       "      <td>2019-06-30</td>\n",
       "      <td>123</td>\n",
       "      <td>123154</td>\n",
       "      <td>126723</td>\n",
       "      <td>109</td>\n",
       "      <td>Pringles Barbeque</td>\n",
       "      <td>2</td>\n",
       "      <td>7.4</td>\n",
       "      <td>134</td>\n",
       "      <td>Pringles</td>\n",
       "      <td>YOUNG SINGLES/COUPLES</td>\n",
       "      <td>Mainstream</td>\n",
       "      <td>3.7</td>\n",
       "    </tr>\n",
       "    <tr>\n",
       "      <th>23</th>\n",
       "      <td>2019-02-18</td>\n",
       "      <td>123</td>\n",
       "      <td>123154</td>\n",
       "      <td>126722</td>\n",
       "      <td>51</td>\n",
       "      <td>Doritos Mexicana</td>\n",
       "      <td>2</td>\n",
       "      <td>8.8</td>\n",
       "      <td>170</td>\n",
       "      <td>Doritos</td>\n",
       "      <td>YOUNG SINGLES/COUPLES</td>\n",
       "      <td>Mainstream</td>\n",
       "      <td>4.4</td>\n",
       "    </tr>\n",
       "    <tr>\n",
       "      <th>24</th>\n",
       "      <td>2018-11-03</td>\n",
       "      <td>123</td>\n",
       "      <td>123154</td>\n",
       "      <td>126721</td>\n",
       "      <td>42</td>\n",
       "      <td>Doritos Corn Chip Mexican Jalapeno</td>\n",
       "      <td>2</td>\n",
       "      <td>7.8</td>\n",
       "      <td>150</td>\n",
       "      <td>Doritos</td>\n",
       "      <td>YOUNG SINGLES/COUPLES</td>\n",
       "      <td>Mainstream</td>\n",
       "      <td>3.9</td>\n",
       "    </tr>\n",
       "    <tr>\n",
       "      <th>115</th>\n",
       "      <td>2019-06-30</td>\n",
       "      <td>125</td>\n",
       "      <td>125122</td>\n",
       "      <td>128751</td>\n",
       "      <td>20</td>\n",
       "      <td>Doritos Cheese      Supreme</td>\n",
       "      <td>2</td>\n",
       "      <td>11.4</td>\n",
       "      <td>330</td>\n",
       "      <td>Doritos</td>\n",
       "      <td>YOUNG SINGLES/COUPLES</td>\n",
       "      <td>Mainstream</td>\n",
       "      <td>5.7</td>\n",
       "    </tr>\n",
       "    <tr>\n",
       "      <th>116</th>\n",
       "      <td>2018-11-29</td>\n",
       "      <td>125</td>\n",
       "      <td>125122</td>\n",
       "      <td>128750</td>\n",
       "      <td>31</td>\n",
       "      <td>Infzns Crn Crnchers Tangy Gcamole</td>\n",
       "      <td>2</td>\n",
       "      <td>7.6</td>\n",
       "      <td>110</td>\n",
       "      <td>Infuzions</td>\n",
       "      <td>YOUNG SINGLES/COUPLES</td>\n",
       "      <td>Mainstream</td>\n",
       "      <td>3.8</td>\n",
       "    </tr>\n",
       "  </tbody>\n",
       "</table>\n",
       "</div>"
      ],
      "text/plain": [
       "          DATE  STORE_NBR  LYLTY_CARD_NBR  TXN_ID  PROD_NBR  \\\n",
       "22  2019-06-30        123          123154  126723       109   \n",
       "23  2019-02-18        123          123154  126722        51   \n",
       "24  2018-11-03        123          123154  126721        42   \n",
       "115 2019-06-30        125          125122  128751        20   \n",
       "116 2018-11-29        125          125122  128750        31   \n",
       "\n",
       "                                PROD_NAME  PROD_QTY  TOT_SALES  PACK_SIZE  \\\n",
       "22                  Pringles Barbeque             2        7.4        134   \n",
       "23                  Doritos Mexicana              2        8.8        170   \n",
       "24   Doritos Corn Chip Mexican Jalapeno           2        7.8        150   \n",
       "115         Doritos Cheese      Supreme           2       11.4        330   \n",
       "116   Infzns Crn Crnchers Tangy Gcamole           2        7.6        110   \n",
       "\n",
       "         BRAND              LIFESTAGE PREMIUM_CUSTOMER  PRICE  \n",
       "22    Pringles  YOUNG SINGLES/COUPLES       Mainstream    3.7  \n",
       "23     Doritos  YOUNG SINGLES/COUPLES       Mainstream    4.4  \n",
       "24     Doritos  YOUNG SINGLES/COUPLES       Mainstream    3.9  \n",
       "115    Doritos  YOUNG SINGLES/COUPLES       Mainstream    5.7  \n",
       "116  Infuzions  YOUNG SINGLES/COUPLES       Mainstream    3.8  "
      ]
     },
     "execution_count": 74,
     "metadata": {},
     "output_type": "execute_result"
    }
   ],
   "source": [
    "target = combine_data.loc[(combine_data['LIFESTAGE'] == 'YOUNG SINGLES/COUPLES') & (combine_data['PREMIUM_CUSTOMER'] == 'Mainstream'), :]\n",
    "nonTarget = combine_data.loc[(combine_data['LIFESTAGE'] != 'YOUNG SINGLES/COUPLES' ) & (combine_data['PREMIUM_CUSTOMER'] != 'Mainstream'), :]\n",
    "target.head()"
   ]
  },
  {
   "cell_type": "markdown",
   "id": "feaa5a2d",
   "metadata": {},
   "source": [
    "# Affinity to brand\n"
   ]
  },
  {
   "cell_type": "code",
   "execution_count": 75,
   "id": "8cddb2be",
   "metadata": {},
   "outputs": [],
   "source": [
    "# Target Segment\n",
    "targetBrand = target.loc[:, ['BRAND', 'PROD_QTY']]\n",
    "targetSum = targetBrand['PROD_QTY'].sum()\n",
    "targetBrand['Target Brand Affinity'] = targetBrand['PROD_QTY'] / targetSum\n",
    "targetBrand = pd.DataFrame(targetBrand.groupby('BRAND')['Target Brand Affinity'].sum())\n",
    "\n",
    "# Non-target segment\n",
    "nonTargetBrand = nonTarget.loc[:, ['BRAND', 'PROD_QTY']]\n",
    "nonTargetSum = nonTargetBrand['PROD_QTY'].sum()\n",
    "nonTargetBrand['Non-Target Brand Affinity'] = nonTargetBrand['PROD_QTY'] / nonTargetSum\n",
    "nonTargetBrand = pd.DataFrame(nonTargetBrand.groupby('BRAND')['Non-Target Brand Affinity'].sum())"
   ]
  },
  {
   "cell_type": "code",
   "execution_count": 76,
   "id": "64a6b3d5",
   "metadata": {
    "scrolled": true
   },
   "outputs": [
    {
     "data": {
      "text/html": [
       "<div>\n",
       "<style scoped>\n",
       "    .dataframe tbody tr th:only-of-type {\n",
       "        vertical-align: middle;\n",
       "    }\n",
       "\n",
       "    .dataframe tbody tr th {\n",
       "        vertical-align: top;\n",
       "    }\n",
       "\n",
       "    .dataframe thead th {\n",
       "        text-align: right;\n",
       "    }\n",
       "</style>\n",
       "<table border=\"1\" class=\"dataframe\">\n",
       "  <thead>\n",
       "    <tr style=\"text-align: right;\">\n",
       "      <th></th>\n",
       "      <th>Target Brand Affinity</th>\n",
       "      <th>Non-Target Brand Affinity</th>\n",
       "    </tr>\n",
       "    <tr>\n",
       "      <th>BRAND</th>\n",
       "      <th></th>\n",
       "      <th></th>\n",
       "    </tr>\n",
       "  </thead>\n",
       "  <tbody>\n",
       "    <tr>\n",
       "      <th>Burger</th>\n",
       "      <td>0.002744</td>\n",
       "      <td>0.006094</td>\n",
       "    </tr>\n",
       "    <tr>\n",
       "      <th>CCs</th>\n",
       "      <td>0.010484</td>\n",
       "      <td>0.017191</td>\n",
       "    </tr>\n",
       "    <tr>\n",
       "      <th>Cheetos</th>\n",
       "      <td>0.007533</td>\n",
       "      <td>0.010960</td>\n",
       "    </tr>\n",
       "    <tr>\n",
       "      <th>Cheezels</th>\n",
       "      <td>0.016851</td>\n",
       "      <td>0.017619</td>\n",
       "    </tr>\n",
       "    <tr>\n",
       "      <th>Cobs</th>\n",
       "      <td>0.041856</td>\n",
       "      <td>0.035836</td>\n",
       "    </tr>\n",
       "  </tbody>\n",
       "</table>\n",
       "</div>"
      ],
      "text/plain": [
       "          Target Brand Affinity  Non-Target Brand Affinity\n",
       "BRAND                                                     \n",
       "Burger                 0.002744                   0.006094\n",
       "CCs                    0.010484                   0.017191\n",
       "Cheetos                0.007533                   0.010960\n",
       "Cheezels               0.016851                   0.017619\n",
       "Cobs                   0.041856                   0.035836"
      ]
     },
     "execution_count": 76,
     "metadata": {},
     "output_type": "execute_result"
    }
   ],
   "source": [
    "# Merge the two dataframes together\n",
    "\n",
    "brand_proportions = pd.merge(targetBrand, nonTargetBrand, left_index = True, right_index = True)\n",
    "brand_proportions.head()"
   ]
  },
  {
   "cell_type": "code",
   "execution_count": 132,
   "id": "a357ab81",
   "metadata": {},
   "outputs": [
    {
     "data": {
      "text/html": [
       "<div>\n",
       "<style scoped>\n",
       "    .dataframe tbody tr th:only-of-type {\n",
       "        vertical-align: middle;\n",
       "    }\n",
       "\n",
       "    .dataframe tbody tr th {\n",
       "        vertical-align: top;\n",
       "    }\n",
       "\n",
       "    .dataframe thead th {\n",
       "        text-align: right;\n",
       "    }\n",
       "</style>\n",
       "<table border=\"1\" class=\"dataframe\">\n",
       "  <thead>\n",
       "    <tr style=\"text-align: right;\">\n",
       "      <th></th>\n",
       "      <th>Target Brand Affinity</th>\n",
       "      <th>Non-Target Brand Affinity</th>\n",
       "      <th>Affinity to Brand</th>\n",
       "    </tr>\n",
       "    <tr>\n",
       "      <th>BRAND</th>\n",
       "      <th></th>\n",
       "      <th></th>\n",
       "      <th></th>\n",
       "    </tr>\n",
       "  </thead>\n",
       "  <tbody>\n",
       "    <tr>\n",
       "      <th>Tyrrells</th>\n",
       "      <td>0.029587</td>\n",
       "      <td>0.023968</td>\n",
       "      <td>1.234454</td>\n",
       "    </tr>\n",
       "    <tr>\n",
       "      <th>Twisties</th>\n",
       "      <td>0.043306</td>\n",
       "      <td>0.035355</td>\n",
       "      <td>1.224877</td>\n",
       "    </tr>\n",
       "    <tr>\n",
       "      <th>Kettle</th>\n",
       "      <td>0.185649</td>\n",
       "      <td>0.155243</td>\n",
       "      <td>1.195863</td>\n",
       "    </tr>\n",
       "    <tr>\n",
       "      <th>Tostitos</th>\n",
       "      <td>0.042581</td>\n",
       "      <td>0.035744</td>\n",
       "      <td>1.191269</td>\n",
       "    </tr>\n",
       "    <tr>\n",
       "      <th>Old</th>\n",
       "      <td>0.041598</td>\n",
       "      <td>0.034931</td>\n",
       "      <td>1.190850</td>\n",
       "    </tr>\n",
       "    <tr>\n",
       "      <th>Pringles</th>\n",
       "      <td>0.111980</td>\n",
       "      <td>0.094240</td>\n",
       "      <td>1.188241</td>\n",
       "    </tr>\n",
       "    <tr>\n",
       "      <th>Grainwaves</th>\n",
       "      <td>0.027309</td>\n",
       "      <td>0.023200</td>\n",
       "      <td>1.177104</td>\n",
       "    </tr>\n",
       "    <tr>\n",
       "      <th>Cobs</th>\n",
       "      <td>0.041856</td>\n",
       "      <td>0.035836</td>\n",
       "      <td>1.167987</td>\n",
       "    </tr>\n",
       "    <tr>\n",
       "      <th>Doritos</th>\n",
       "      <td>0.122877</td>\n",
       "      <td>0.105278</td>\n",
       "      <td>1.167174</td>\n",
       "    </tr>\n",
       "    <tr>\n",
       "      <th>Infuzions</th>\n",
       "      <td>0.060649</td>\n",
       "      <td>0.053509</td>\n",
       "      <td>1.133443</td>\n",
       "    </tr>\n",
       "    <tr>\n",
       "      <th>Thins</th>\n",
       "      <td>0.056611</td>\n",
       "      <td>0.053275</td>\n",
       "      <td>1.062612</td>\n",
       "    </tr>\n",
       "    <tr>\n",
       "      <th>Cheezels</th>\n",
       "      <td>0.016851</td>\n",
       "      <td>0.017619</td>\n",
       "      <td>0.956409</td>\n",
       "    </tr>\n",
       "    <tr>\n",
       "      <th>Smiths</th>\n",
       "      <td>0.093420</td>\n",
       "      <td>0.121327</td>\n",
       "      <td>0.769986</td>\n",
       "    </tr>\n",
       "    <tr>\n",
       "      <th>French</th>\n",
       "      <td>0.003702</td>\n",
       "      <td>0.005319</td>\n",
       "      <td>0.695912</td>\n",
       "    </tr>\n",
       "    <tr>\n",
       "      <th>Cheetos</th>\n",
       "      <td>0.007533</td>\n",
       "      <td>0.010960</td>\n",
       "      <td>0.687286</td>\n",
       "    </tr>\n",
       "    <tr>\n",
       "      <th>Red Rock Deli</th>\n",
       "      <td>0.015350</td>\n",
       "      <td>0.022737</td>\n",
       "      <td>0.675115</td>\n",
       "    </tr>\n",
       "    <tr>\n",
       "      <th>RRD</th>\n",
       "      <td>0.030027</td>\n",
       "      <td>0.045573</td>\n",
       "      <td>0.658880</td>\n",
       "    </tr>\n",
       "    <tr>\n",
       "      <th>Natural</th>\n",
       "      <td>0.014962</td>\n",
       "      <td>0.023207</td>\n",
       "      <td>0.644700</td>\n",
       "    </tr>\n",
       "    <tr>\n",
       "      <th>CCs</th>\n",
       "      <td>0.010484</td>\n",
       "      <td>0.017191</td>\n",
       "      <td>0.609811</td>\n",
       "    </tr>\n",
       "    <tr>\n",
       "      <th>NCC</th>\n",
       "      <td>0.003417</td>\n",
       "      <td>0.005648</td>\n",
       "      <td>0.604972</td>\n",
       "    </tr>\n",
       "    <tr>\n",
       "      <th>GrnWves</th>\n",
       "      <td>0.003365</td>\n",
       "      <td>0.005758</td>\n",
       "      <td>0.584460</td>\n",
       "    </tr>\n",
       "    <tr>\n",
       "      <th>Sunbites</th>\n",
       "      <td>0.005954</td>\n",
       "      <td>0.011756</td>\n",
       "      <td>0.506446</td>\n",
       "    </tr>\n",
       "    <tr>\n",
       "      <th>WW</th>\n",
       "      <td>0.019932</td>\n",
       "      <td>0.039759</td>\n",
       "      <td>0.501318</td>\n",
       "    </tr>\n",
       "    <tr>\n",
       "      <th>Woolworths</th>\n",
       "      <td>0.008257</td>\n",
       "      <td>0.016474</td>\n",
       "      <td>0.501253</td>\n",
       "    </tr>\n",
       "    <tr>\n",
       "      <th>Burger</th>\n",
       "      <td>0.002744</td>\n",
       "      <td>0.006094</td>\n",
       "      <td>0.450284</td>\n",
       "    </tr>\n",
       "  </tbody>\n",
       "</table>\n",
       "</div>"
      ],
      "text/plain": [
       "               Target Brand Affinity  Non-Target Brand Affinity  \\\n",
       "BRAND                                                             \n",
       "Tyrrells                    0.029587                   0.023968   \n",
       "Twisties                    0.043306                   0.035355   \n",
       "Kettle                      0.185649                   0.155243   \n",
       "Tostitos                    0.042581                   0.035744   \n",
       "Old                         0.041598                   0.034931   \n",
       "Pringles                    0.111980                   0.094240   \n",
       "Grainwaves                  0.027309                   0.023200   \n",
       "Cobs                        0.041856                   0.035836   \n",
       "Doritos                     0.122877                   0.105278   \n",
       "Infuzions                   0.060649                   0.053509   \n",
       "Thins                       0.056611                   0.053275   \n",
       "Cheezels                    0.016851                   0.017619   \n",
       "Smiths                      0.093420                   0.121327   \n",
       "French                      0.003702                   0.005319   \n",
       "Cheetos                     0.007533                   0.010960   \n",
       "Red Rock Deli               0.015350                   0.022737   \n",
       "RRD                         0.030027                   0.045573   \n",
       "Natural                     0.014962                   0.023207   \n",
       "CCs                         0.010484                   0.017191   \n",
       "NCC                         0.003417                   0.005648   \n",
       "GrnWves                     0.003365                   0.005758   \n",
       "Sunbites                    0.005954                   0.011756   \n",
       "WW                          0.019932                   0.039759   \n",
       "Woolworths                  0.008257                   0.016474   \n",
       "Burger                      0.002744                   0.006094   \n",
       "\n",
       "               Affinity to Brand  \n",
       "BRAND                             \n",
       "Tyrrells                1.234454  \n",
       "Twisties                1.224877  \n",
       "Kettle                  1.195863  \n",
       "Tostitos                1.191269  \n",
       "Old                     1.190850  \n",
       "Pringles                1.188241  \n",
       "Grainwaves              1.177104  \n",
       "Cobs                    1.167987  \n",
       "Doritos                 1.167174  \n",
       "Infuzions               1.133443  \n",
       "Thins                   1.062612  \n",
       "Cheezels                0.956409  \n",
       "Smiths                  0.769986  \n",
       "French                  0.695912  \n",
       "Cheetos                 0.687286  \n",
       "Red Rock Deli           0.675115  \n",
       "RRD                     0.658880  \n",
       "Natural                 0.644700  \n",
       "CCs                     0.609811  \n",
       "NCC                     0.604972  \n",
       "GrnWves                 0.584460  \n",
       "Sunbites                0.506446  \n",
       "WW                      0.501318  \n",
       "Woolworths              0.501253  \n",
       "Burger                  0.450284  "
      ]
     },
     "execution_count": 132,
     "metadata": {},
     "output_type": "execute_result"
    }
   ],
   "source": [
    "brand_proportions['Affinity to Brand'] = brand_proportions['Target Brand Affinity'] / brand_proportions['Non-Target Brand Affinity']\n",
    "brand_proportions.sort_values(by = 'Affinity to Brand', ascending = False, inplace= True)\n",
    "brand_proportions"
   ]
  },
  {
   "cell_type": "markdown",
   "id": "0125c390",
   "metadata": {},
   "source": [
    "Mainstream young singles/couples are more likely to purchase Tyrrells chips compared to other brands."
   ]
  },
  {
   "cell_type": "markdown",
   "id": "d1d5b6b8",
   "metadata": {},
   "source": [
    "# Affinity to pack size"
   ]
  },
  {
   "cell_type": "code",
   "execution_count": 79,
   "id": "13994af3",
   "metadata": {},
   "outputs": [],
   "source": [
    "# Target segment \n",
    "targetSize = target.loc[:, ['PACK_SIZE', 'PROD_QTY']]\n",
    "targetSum = targetSize['PROD_QTY'].sum()\n",
    "targetSize['Target Pack Affinity'] = targetSize['PROD_QTY'] / targetSum\n",
    "targetSize = pd.DataFrame(targetSize.groupby('PACK_SIZE')['Target Pack Affinity'].sum())\n",
    "\n",
    "# Non-target segment\n",
    "nonTargetSize = nonTarget.loc[:, ['PACK_SIZE', 'PROD_QTY']]\n",
    "nonTargetSum = nonTargetSize['PROD_QTY'].sum()\n",
    "nonTargetSize['Non-Target Pack Affinity'] = nonTargetSize['PROD_QTY'] / nonTargetSum\n",
    "nonTargetSize = pd.DataFrame(nonTargetSize.groupby('PACK_SIZE')['Non-Target Pack Affinity'].sum())"
   ]
  },
  {
   "cell_type": "code",
   "execution_count": 80,
   "id": "14438190",
   "metadata": {},
   "outputs": [
    {
     "data": {
      "text/html": [
       "<div>\n",
       "<style scoped>\n",
       "    .dataframe tbody tr th:only-of-type {\n",
       "        vertical-align: middle;\n",
       "    }\n",
       "\n",
       "    .dataframe tbody tr th {\n",
       "        vertical-align: top;\n",
       "    }\n",
       "\n",
       "    .dataframe thead th {\n",
       "        text-align: right;\n",
       "    }\n",
       "</style>\n",
       "<table border=\"1\" class=\"dataframe\">\n",
       "  <thead>\n",
       "    <tr style=\"text-align: right;\">\n",
       "      <th></th>\n",
       "      <th>Target Pack Affinity</th>\n",
       "      <th>Non-Target Pack Affinity</th>\n",
       "    </tr>\n",
       "    <tr>\n",
       "      <th>PACK_SIZE</th>\n",
       "      <th></th>\n",
       "      <th></th>\n",
       "    </tr>\n",
       "  </thead>\n",
       "  <tbody>\n",
       "    <tr>\n",
       "      <th>70</th>\n",
       "      <td>0.002847</td>\n",
       "      <td>0.005857</td>\n",
       "    </tr>\n",
       "    <tr>\n",
       "      <th>90</th>\n",
       "      <td>0.005954</td>\n",
       "      <td>0.011756</td>\n",
       "    </tr>\n",
       "    <tr>\n",
       "      <th>110</th>\n",
       "      <td>0.099658</td>\n",
       "      <td>0.083489</td>\n",
       "    </tr>\n",
       "    <tr>\n",
       "      <th>125</th>\n",
       "      <td>0.002821</td>\n",
       "      <td>0.005570</td>\n",
       "    </tr>\n",
       "    <tr>\n",
       "      <th>134</th>\n",
       "      <td>0.111980</td>\n",
       "      <td>0.094240</td>\n",
       "    </tr>\n",
       "  </tbody>\n",
       "</table>\n",
       "</div>"
      ],
      "text/plain": [
       "           Target Pack Affinity  Non-Target Pack Affinity\n",
       "PACK_SIZE                                                \n",
       "70                     0.002847                  0.005857\n",
       "90                     0.005954                  0.011756\n",
       "110                    0.099658                  0.083489\n",
       "125                    0.002821                  0.005570\n",
       "134                    0.111980                  0.094240"
      ]
     },
     "execution_count": 80,
     "metadata": {},
     "output_type": "execute_result"
    }
   ],
   "source": [
    "# Merge the two dataframes together\n",
    "\n",
    "pack_proportions = pd.merge(targetSize, nonTargetSize, left_index = True, right_index = True)\n",
    "pack_proportions.head()"
   ]
  },
  {
   "cell_type": "code",
   "execution_count": 157,
   "id": "8fa9ae6f",
   "metadata": {},
   "outputs": [
    {
     "data": {
      "text/html": [
       "<div>\n",
       "<style scoped>\n",
       "    .dataframe tbody tr th:only-of-type {\n",
       "        vertical-align: middle;\n",
       "    }\n",
       "\n",
       "    .dataframe tbody tr th {\n",
       "        vertical-align: top;\n",
       "    }\n",
       "\n",
       "    .dataframe thead th {\n",
       "        text-align: right;\n",
       "    }\n",
       "</style>\n",
       "<table border=\"1\" class=\"dataframe\">\n",
       "  <thead>\n",
       "    <tr style=\"text-align: right;\">\n",
       "      <th></th>\n",
       "      <th>Target Pack Affinity</th>\n",
       "      <th>Non-Target Pack Affinity</th>\n",
       "      <th>Affinity to Pack</th>\n",
       "    </tr>\n",
       "    <tr>\n",
       "      <th>PACK_SIZE</th>\n",
       "      <th></th>\n",
       "      <th></th>\n",
       "      <th></th>\n",
       "    </tr>\n",
       "  </thead>\n",
       "  <tbody>\n",
       "    <tr>\n",
       "      <th>270</th>\n",
       "      <td>0.029846</td>\n",
       "      <td>0.023366</td>\n",
       "      <td>1.277295</td>\n",
       "    </tr>\n",
       "    <tr>\n",
       "      <th>380</th>\n",
       "      <td>0.030156</td>\n",
       "      <td>0.023964</td>\n",
       "      <td>1.258400</td>\n",
       "    </tr>\n",
       "    <tr>\n",
       "      <th>330</th>\n",
       "      <td>0.057465</td>\n",
       "      <td>0.047511</td>\n",
       "      <td>1.209522</td>\n",
       "    </tr>\n",
       "    <tr>\n",
       "      <th>110</th>\n",
       "      <td>0.099658</td>\n",
       "      <td>0.083489</td>\n",
       "      <td>1.193675</td>\n",
       "    </tr>\n",
       "    <tr>\n",
       "      <th>134</th>\n",
       "      <td>0.111980</td>\n",
       "      <td>0.094240</td>\n",
       "      <td>1.188241</td>\n",
       "    </tr>\n",
       "    <tr>\n",
       "      <th>210</th>\n",
       "      <td>0.027309</td>\n",
       "      <td>0.023200</td>\n",
       "      <td>1.177104</td>\n",
       "    </tr>\n",
       "    <tr>\n",
       "      <th>135</th>\n",
       "      <td>0.013849</td>\n",
       "      <td>0.012053</td>\n",
       "      <td>1.149001</td>\n",
       "    </tr>\n",
       "    <tr>\n",
       "      <th>250</th>\n",
       "      <td>0.013460</td>\n",
       "      <td>0.011989</td>\n",
       "      <td>1.122716</td>\n",
       "    </tr>\n",
       "    <tr>\n",
       "      <th>170</th>\n",
       "      <td>0.075740</td>\n",
       "      <td>0.074888</td>\n",
       "      <td>1.011386</td>\n",
       "    </tr>\n",
       "    <tr>\n",
       "      <th>300</th>\n",
       "      <td>0.054954</td>\n",
       "      <td>0.056709</td>\n",
       "      <td>0.969052</td>\n",
       "    </tr>\n",
       "    <tr>\n",
       "      <th>150</th>\n",
       "      <td>0.155130</td>\n",
       "      <td>0.163228</td>\n",
       "      <td>0.950388</td>\n",
       "    </tr>\n",
       "    <tr>\n",
       "      <th>175</th>\n",
       "      <td>0.239102</td>\n",
       "      <td>0.253012</td>\n",
       "      <td>0.945022</td>\n",
       "    </tr>\n",
       "    <tr>\n",
       "      <th>165</th>\n",
       "      <td>0.052185</td>\n",
       "      <td>0.057403</td>\n",
       "      <td>0.909100</td>\n",
       "    </tr>\n",
       "    <tr>\n",
       "      <th>190</th>\n",
       "      <td>0.007015</td>\n",
       "      <td>0.011307</td>\n",
       "      <td>0.620430</td>\n",
       "    </tr>\n",
       "    <tr>\n",
       "      <th>180</th>\n",
       "      <td>0.003365</td>\n",
       "      <td>0.005758</td>\n",
       "      <td>0.584460</td>\n",
       "    </tr>\n",
       "    <tr>\n",
       "      <th>160</th>\n",
       "      <td>0.006005</td>\n",
       "      <td>0.011391</td>\n",
       "      <td>0.527185</td>\n",
       "    </tr>\n",
       "    <tr>\n",
       "      <th>125</th>\n",
       "      <td>0.002821</td>\n",
       "      <td>0.005570</td>\n",
       "      <td>0.506538</td>\n",
       "    </tr>\n",
       "    <tr>\n",
       "      <th>90</th>\n",
       "      <td>0.005954</td>\n",
       "      <td>0.011756</td>\n",
       "      <td>0.506446</td>\n",
       "    </tr>\n",
       "    <tr>\n",
       "      <th>200</th>\n",
       "      <td>0.008413</td>\n",
       "      <td>0.017216</td>\n",
       "      <td>0.488651</td>\n",
       "    </tr>\n",
       "    <tr>\n",
       "      <th>70</th>\n",
       "      <td>0.002847</td>\n",
       "      <td>0.005857</td>\n",
       "      <td>0.486182</td>\n",
       "    </tr>\n",
       "    <tr>\n",
       "      <th>220</th>\n",
       "      <td>0.002744</td>\n",
       "      <td>0.006094</td>\n",
       "      <td>0.450284</td>\n",
       "    </tr>\n",
       "  </tbody>\n",
       "</table>\n",
       "</div>"
      ],
      "text/plain": [
       "           Target Pack Affinity  Non-Target Pack Affinity  Affinity to Pack\n",
       "PACK_SIZE                                                                  \n",
       "270                    0.029846                  0.023366          1.277295\n",
       "380                    0.030156                  0.023964          1.258400\n",
       "330                    0.057465                  0.047511          1.209522\n",
       "110                    0.099658                  0.083489          1.193675\n",
       "134                    0.111980                  0.094240          1.188241\n",
       "210                    0.027309                  0.023200          1.177104\n",
       "135                    0.013849                  0.012053          1.149001\n",
       "250                    0.013460                  0.011989          1.122716\n",
       "170                    0.075740                  0.074888          1.011386\n",
       "300                    0.054954                  0.056709          0.969052\n",
       "150                    0.155130                  0.163228          0.950388\n",
       "175                    0.239102                  0.253012          0.945022\n",
       "165                    0.052185                  0.057403          0.909100\n",
       "190                    0.007015                  0.011307          0.620430\n",
       "180                    0.003365                  0.005758          0.584460\n",
       "160                    0.006005                  0.011391          0.527185\n",
       "125                    0.002821                  0.005570          0.506538\n",
       "90                     0.005954                  0.011756          0.506446\n",
       "200                    0.008413                  0.017216          0.488651\n",
       "70                     0.002847                  0.005857          0.486182\n",
       "220                    0.002744                  0.006094          0.450284"
      ]
     },
     "execution_count": 157,
     "metadata": {},
     "output_type": "execute_result"
    }
   ],
   "source": [
    "pack_proportions['Affinity to Pack'] = pack_proportions['Target Pack Affinity'] / pack_proportions['Non-Target Pack Affinity']\n",
    "pack_proportions.sort_values(by = 'Affinity to Pack', ascending = False, inplace=True)\n",
    "pack_proportions"
   ]
  },
  {
   "cell_type": "markdown",
   "id": "8295a44b",
   "metadata": {},
   "source": [
    "It looks like mainstream singles/couples are more likely to purchase a 270g pack size compared to other pack sizes."
   ]
  },
  {
   "cell_type": "code",
   "execution_count": 82,
   "id": "b380b514",
   "metadata": {},
   "outputs": [
    {
     "ename": "NameError",
     "evalue": "name 'combineData' is not defined",
     "output_type": "error",
     "traceback": [
      "\u001b[0;31m---------------------------------------------------------------------------\u001b[0m",
      "\u001b[0;31mNameError\u001b[0m                                 Traceback (most recent call last)",
      "\u001b[0;32m/var/folders/sh/8w_wmzqj06x_9_47bvpn33240000gn/T/ipykernel_887/4268604206.py\u001b[0m in \u001b[0;36m<module>\u001b[0;34m\u001b[0m\n\u001b[1;32m      1\u001b[0m \u001b[0;31m# Which brand offers 270g pack size?\u001b[0m\u001b[0;34m\u001b[0m\u001b[0;34m\u001b[0m\u001b[0m\n\u001b[1;32m      2\u001b[0m \u001b[0;34m\u001b[0m\u001b[0m\n\u001b[0;32m----> 3\u001b[0;31m \u001b[0mcombine_data\u001b[0m\u001b[0;34m.\u001b[0m\u001b[0mloc\u001b[0m\u001b[0;34m[\u001b[0m\u001b[0mcombineData\u001b[0m\u001b[0;34m[\u001b[0m\u001b[0;34m'PACK_SIZE'\u001b[0m\u001b[0;34m]\u001b[0m \u001b[0;34m==\u001b[0m \u001b[0;36m270\u001b[0m\u001b[0;34m,\u001b[0m \u001b[0;34m:\u001b[0m\u001b[0;34m]\u001b[0m\u001b[0;34m.\u001b[0m\u001b[0mhead\u001b[0m\u001b[0;34m(\u001b[0m\u001b[0;36m10\u001b[0m\u001b[0;34m)\u001b[0m\u001b[0;34m\u001b[0m\u001b[0;34m\u001b[0m\u001b[0m\n\u001b[0m",
      "\u001b[0;31mNameError\u001b[0m: name 'combineData' is not defined"
     ]
    }
   ],
   "source": [
    "# Which brand offers 270g pack size?\n",
    "\n",
    "combine_data.loc[combineData['PACK_SIZE'] == 270, :].head(10)"
   ]
  },
  {
   "cell_type": "code",
   "execution_count": null,
   "id": "aaaa5f4b",
   "metadata": {},
   "outputs": [],
   "source": [
    "# Is Twisties the only brand who sells 270g pack size?\n",
    "\n",
    "combine_data.loc[combineData['PACK_SIZE'] == 270, 'BRAND'].unique()"
   ]
  },
  {
   "cell_type": "markdown",
   "id": "ca870155",
   "metadata": {},
   "source": [
    "Twisties is the only brand that offers 270g pack size."
   ]
  },
  {
   "cell_type": "markdown",
   "id": "22a761d6",
   "metadata": {},
   "source": [
    "# Conclusion\n"
   ]
  },
  {
   "cell_type": "markdown",
   "id": "09cb98c5",
   "metadata": {},
   "source": [
    "Sales are highest for (Budget, OLDER FAMILIES), (Mainstream, YOUNG SINGLES/COUPLES) and (Mainstream, RETIREES)\n",
    "We found that (Mainstream, YOUNG SINGLES/COUPLES) and (Mainstream, RETIREES) are mainly due to the fact that there are more customers in these segments\n",
    "(Mainstream, YOUNG SINGLES/COUPLES) are more likely to pay more per packet of chips than their premium and budget counterparts\n",
    "They are also more likely to purchase 'Tyrrells' and '270g' pack sizes than the rest of the population"
   ]
  },
  {
   "cell_type": "code",
   "execution_count": null,
   "id": "c9b27685",
   "metadata": {},
   "outputs": [],
   "source": [
    "combine_data.to_csv(\"/Users/julia/Desktop/data science/forage/quantium/task 1_combinedata.csv\")"
   ]
  },
  {
   "cell_type": "code",
   "execution_count": null,
   "id": "a043a68e",
   "metadata": {},
   "outputs": [],
   "source": []
  }
 ],
 "metadata": {
  "kernelspec": {
   "display_name": "Python 3 (ipykernel)",
   "language": "python",
   "name": "python3"
  },
  "language_info": {
   "codemirror_mode": {
    "name": "ipython",
    "version": 3
   },
   "file_extension": ".py",
   "mimetype": "text/x-python",
   "name": "python",
   "nbconvert_exporter": "python",
   "pygments_lexer": "ipython3",
   "version": "3.9.7"
  }
 },
 "nbformat": 4,
 "nbformat_minor": 5
}
